{
 "cells": [
  {
   "cell_type": "code",
   "execution_count": 95,
   "metadata": {},
   "outputs": [],
   "source": [
    "import pandas as pd\n",
    "import numpy as np\n",
    "from sklearn import metrics"
   ]
  },
  {
   "cell_type": "code",
   "execution_count": 96,
   "metadata": {},
   "outputs": [],
   "source": [
    "data = pd.read_csv('traindataset.csv',memory_map=True) #importing cleaned dataset"
   ]
  },
  {
   "cell_type": "code",
   "execution_count": 97,
   "metadata": {},
   "outputs": [],
   "source": [
    "categorical_cols = [\"Housing Situation\",\"Satisfation with employer\",\n",
    "                    \"Gender\",\"Country\",\"Profession\",\"University Degree\",\"Hair Color\"]\n",
    "conti_cols = [\"Year of Record\",\"Crime Level in the City of Employement\",\n",
    "              \"Work Experience in Current Job [years]\",\"Age\",\"Size of City\",\"Wears Glasses\",\n",
    "              \"Body Height [cm]\",\"Yearly Income in addition to Salary (e.g. Rental Income)\"]"
   ]
  },
  {
   "cell_type": "code",
   "execution_count": 98,
   "metadata": {},
   "outputs": [
    {
     "data": {
      "image/png": "[encoded data removed]",
      "text/plain": [
       "<Figure size 432x288 with 1 Axes>"
      ]
     },
     "metadata": {
      "needs_background": "light"
     },
     "output_type": "display_data"
    }
   ],
   "source": [
    "#https://towardsdatascience.com/5-ways-to-detect-outliers-that-every-data-scientist-should-know-python-code-70a54335a623\n",
    "#Plotting box plot to look for outliers in each continuous column\n",
    "import seaborn as sns\n",
    "import matplotlib.pyplot as plt\n",
    "sns.boxplot(data=data['Age'])\n",
    "plt.show()"
   ]
  },
  {
   "cell_type": "code",
   "execution_count": 99,
   "metadata": {},
   "outputs": [],
   "source": [
    "#this function takes a string column name and returns a list\n",
    "#containing indices of dataframe that have outliers in that column\n",
    "#Refer: https://towardsdatascience.com/5-ways-to-detect-outliers-that-every-data-scientist-should-know-python-code-70a54335a623\n",
    "def OutlierByColumn(colname):\n",
    "    rows = data.shape[0]\n",
    "    col_std = np.std(data[colname])\n",
    "    col_mean = np.mean(data[colname])\n",
    "    anomaly_cut_off = col_std * 3\n",
    "    lower_limit  = col_mean - anomaly_cut_off \n",
    "    upper_limit = col_mean + anomaly_cut_off\n",
    "    anomalies_indices = []\n",
    "    for i in range(rows):\n",
    "        ele = data[colname][i]\n",
    "        if ele > upper_limit or ele < lower_limit:\n",
    "            anomalies_indices.append(i)\n",
    "    return anomalies_indices        "
   ]
  },
  {
   "cell_type": "code",
   "execution_count": 100,
   "metadata": {},
   "outputs": [
    {
     "data": {
      "text/plain": [
       "(991712, 18)"
      ]
     },
     "execution_count": 100,
     "metadata": {},
     "output_type": "execute_result"
    }
   ],
   "source": [
    "data.shape #checking no of rows and no of columns for reference"
   ]
  },
  {
   "cell_type": "code",
   "execution_count": 101,
   "metadata": {},
   "outputs": [],
   "source": [
    "#getting indices of outliers for continuous labels\n",
    "#This will take some time to execute\n",
    "arr1 = OutlierByColumn('Work Experience in Current Job [years]')\n",
    "arr2 = OutlierByColumn('Age')\n",
    "arr3 = OutlierByColumn('Body Height [cm]')\n",
    "arr4 = OutlierByColumn('Yearly Income in addition to Salary (e.g. Rental Income)')\n",
    "arr5 = OutlierByColumn('Size of City')"
   ]
  },
  {
   "cell_type": "code",
   "execution_count": 102,
   "metadata": {},
   "outputs": [
    {
     "data": {
      "text/plain": [
       "50483"
      ]
     },
     "execution_count": 102,
     "metadata": {},
     "output_type": "execute_result"
    }
   ],
   "source": [
    "#Union of all lists \n",
    "union_index = np.union1d(arr1,arr2)\n",
    "union_index = np.union1d(union_index,arr3)\n",
    "union_index = np.union1d(union_index,arr4)\n",
    "union_index = np.union1d(union_index,arr5)\n",
    "len(union_index)"
   ]
  },
  {
   "cell_type": "code",
   "execution_count": 103,
   "metadata": {},
   "outputs": [],
   "source": [
    "data = data.drop(union_index) #removing all columns containing one or more outliers"
   ]
  },
  {
   "cell_type": "code",
   "execution_count": 104,
   "metadata": {},
   "outputs": [],
   "source": [
    "#Read somewhere that binary encoders take less space\n",
    "import category_encoders as ce\n",
    "encoder = ce.BinaryEncoder(categorical_cols) "
   ]
  },
  {
   "cell_type": "code",
   "execution_count": 105,
   "metadata": {},
   "outputs": [],
   "source": [
    "#encoding categorical columns\n",
    "encoded = encoder.fit_transform(data[categorical_cols])"
   ]
  },
  {
   "cell_type": "code",
   "execution_count": 106,
   "metadata": {},
   "outputs": [],
   "source": [
    "#joining encoded columns with continous columns\n",
    "encoded = encoded.join(data[conti_cols])"
   ]
  },
  {
   "cell_type": "code",
   "execution_count": 107,
   "metadata": {},
   "outputs": [],
   "source": [
    "x = encoded.values "
   ]
  },
  {
   "cell_type": "code",
   "execution_count": 108,
   "metadata": {},
   "outputs": [],
   "source": [
    "y = data['Total Yearly Income [EUR]'].values "
   ]
  },
  {
   "cell_type": "code",
   "execution_count": 109,
   "metadata": {},
   "outputs": [
    {
     "data": {
      "text/plain": [
       "75400.6946599875"
      ]
     },
     "execution_count": 109,
     "metadata": {},
     "output_type": "execute_result"
    }
   ],
   "source": [
    "#checking how linear regression performs\n",
    "from sklearn import linear_model\n",
    "from sklearn.model_selection import train_test_split\n",
    "xtrain, xtest, ytrain, ytest = train_test_split(x, y, test_size=0.2, random_state=0)\n",
    "regressor = linear_model.LinearRegression()\n",
    "regressor.fit(xtrain,ytrain)\n",
    "ypred = regressor.predict(xtest)\n",
    "np.sqrt(metrics.mean_squared_error(ytest, ypred))#Root Mean Squared Error"
   ]
  },
  {
   "cell_type": "code",
   "execution_count": 110,
   "metadata": {},
   "outputs": [
    {
     "data": {
      "text/plain": [
       "55745.56714694027"
      ]
     },
     "execution_count": 110,
     "metadata": {},
     "output_type": "execute_result"
    }
   ],
   "source": [
    "#GradientBoostingRegressor\n",
    "#This will take some time to execute \n",
    "from sklearn.ensemble import GradientBoostingRegressor\n",
    "gbr = GradientBoostingRegressor()\n",
    "gbr.fit(xtrain,ytrain)\n",
    "ypred = gbr.predict(xtest)\n",
    "np.sqrt(metrics.mean_squared_error(ytest, ypred))#Root Mean Squared Error"
   ]
  },
  {
   "cell_type": "code",
   "execution_count": null,
   "metadata": {},
   "outputs": [],
   "source": []
  }
 ],
 "metadata": {
  "kernelspec": {
   "display_name": "Python 2",
   "language": "python",
   "name": "python2"
  },
  "language_info": {
   "codemirror_mode": {
    "name": "ipython",
    "version": 2
   },
   "file_extension": ".py",
   "mimetype": "text/x-python",
   "name": "python",
   "nbconvert_exporter": "python",
   "pygments_lexer": "ipython2",
   "version": "2.7.12"
  }
 },
 "nbformat": 4,
 "nbformat_minor": 2
}
