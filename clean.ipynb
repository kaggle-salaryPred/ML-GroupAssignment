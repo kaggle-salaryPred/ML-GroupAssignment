{
 "cells": [
  {
   "cell_type": "code",
   "execution_count": 3,
   "metadata": {},
   "outputs": [],
   "source": [
    "import pandas as pd\n",
    "import matplotlib.pyplot as plt\n",
    "import seaborn as sns\n",
    "import numpy as np"
   ]
  },
  {
   "cell_type": "code",
   "execution_count": 5,
   "metadata": {},
   "outputs": [],
   "source": [
    "data = pd.read_csv('tcd-ml-1920-group-income-train.csv') #loading data"
   ]
  },
  {
   "cell_type": "code",
   "execution_count": 6,
   "metadata": {},
   "outputs": [
    {
     "data": {
      "text/plain": [
       "(1048574, 17)"
      ]
     },
     "execution_count": 6,
     "metadata": {},
     "output_type": "execute_result"
    }
   ],
   "source": [
    "data.shape #checking dimensions"
   ]
  },
  {
   "cell_type": "code",
   "execution_count": 7,
   "metadata": {},
   "outputs": [],
   "source": [
    "cols = [\"Year of Record\",\"Housing Situation\",\n",
    "        \"Satisfation with employer\",\"Gender\",\"Age\",\n",
    "        \"Country\",\"Size of City\",\"Profession\",\n",
    "        \"University Degree\",\"Hair Color\",\"Body Height [cm]\"]"
   ]
  },
  {
   "cell_type": "code",
   "execution_count": 8,
   "metadata": {},
   "outputs": [],
   "source": [
    "#Replacing different forms of missing values with np.nan\n",
    "data[cols] = data[cols].replace({'0':np.nan, 0:np.nan,\n",
    "                                 'unknown':np.nan,'Unknown': np.nan,\n",
    "                                 'nA':np.nan,'#NUM!':np.nan, None:np.nan})\n",
    "data['Work Experience in Current Job [years]'] = data['Work Experience in Current Job [years]'].replace('#NUM!',np.nan)"
   ]
  },
  {
   "cell_type": "code",
   "execution_count": 9,
   "metadata": {},
   "outputs": [],
   "source": [
    "#removing duplicates\n",
    "data = data.drop_duplicates()"
   ]
  },
  {
   "cell_type": "code",
   "execution_count": 10,
   "metadata": {},
   "outputs": [
    {
     "data": {
      "text/plain": [
       "(991712, 17)"
      ]
     },
     "execution_count": 10,
     "metadata": {},
     "output_type": "execute_result"
    }
   ],
   "source": [
    "#dimensions after removing duplicates\n",
    "data.shape"
   ]
  },
  {
   "cell_type": "code",
   "execution_count": 11,
   "metadata": {},
   "outputs": [
    {
     "data": {
      "text/plain": [
       "Instance                                                         0\n",
       "Year of Record                                                4013\n",
       "Housing Situation                                           266069\n",
       "Crime Level in the City of Employement                           0\n",
       "Work Experience in Current Job [years]                          46\n",
       "Satisfation with employer                                    35955\n",
       "Gender                                                      136621\n",
       "Age                                                              0\n",
       "Country                                                          2\n",
       "Size of City                                                     0\n",
       "Profession                                                    2699\n",
       "University Degree                                            82306\n",
       "Wears Glasses                                                    0\n",
       "Hair Color                                                   72584\n",
       "Body Height [cm]                                                 0\n",
       "Yearly Income in addition to Salary (e.g. Rental Income)         0\n",
       "Total Yearly Income [EUR]                                        0\n",
       "dtype: int64"
      ]
     },
     "execution_count": 11,
     "metadata": {},
     "output_type": "execute_result"
    }
   ],
   "source": [
    "#missing values\n",
    "data.isnull().sum()"
   ]
  },
  {
   "cell_type": "code",
   "execution_count": 12,
   "metadata": {},
   "outputs": [],
   "source": [
    "categorical_cols = [\"Housing Situation\",\"Satisfation with employer\",\n",
    "                    \"Gender\",\"Country\",\"Profession\",\"University Degree\",\"Hair Color\"]"
   ]
  },
  {
   "cell_type": "code",
   "execution_count": 13,
   "metadata": {},
   "outputs": [],
   "source": [
    "#Replacing missing values\n",
    "#https://elitedatascience.com/data-cleaning\n",
    "data[categorical_cols] = data[categorical_cols].fillna('missing')\n",
    "#Year of record and Instance have 0.99 correlation; Year of record is in ascending order\n",
    "#Filling missing Year of Reord values with the one in previous row\n",
    "data['Year of Record'] = data['Year of Record'].fillna(method='pad')\n"
   ]
  },
  {
   "cell_type": "code",
   "execution_count": 14,
   "metadata": {},
   "outputs": [
    {
     "data": {
      "text/html": [
       "<div>\n",
       "<style scoped>\n",
       "    .dataframe tbody tr th:only-of-type {\n",
       "        vertical-align: middle;\n",
       "    }\n",
       "\n",
       "    .dataframe tbody tr th {\n",
       "        vertical-align: top;\n",
       "    }\n",
       "\n",
       "    .dataframe thead th {\n",
       "        text-align: right;\n",
       "    }\n",
       "</style>\n",
       "<table border=\"1\" class=\"dataframe\">\n",
       "  <thead>\n",
       "    <tr style=\"text-align: right;\">\n",
       "      <th></th>\n",
       "      <th>Instance</th>\n",
       "      <th>Year of Record</th>\n",
       "      <th>Housing Situation</th>\n",
       "      <th>Crime Level in the City of Employement</th>\n",
       "      <th>Work Experience in Current Job [years]</th>\n",
       "      <th>Satisfation with employer</th>\n",
       "      <th>Gender</th>\n",
       "      <th>Age</th>\n",
       "      <th>Country</th>\n",
       "      <th>Size of City</th>\n",
       "      <th>Profession</th>\n",
       "      <th>University Degree</th>\n",
       "      <th>Wears Glasses</th>\n",
       "      <th>Hair Color</th>\n",
       "      <th>Body Height [cm]</th>\n",
       "      <th>Yearly Income in addition to Salary (e.g. Rental Income)</th>\n",
       "      <th>Total Yearly Income [EUR]</th>\n",
       "    </tr>\n",
       "  </thead>\n",
       "  <tbody>\n",
       "    <tr>\n",
       "      <th>0</th>\n",
       "      <td>1</td>\n",
       "      <td>1940.0</td>\n",
       "      <td>missing</td>\n",
       "      <td>33</td>\n",
       "      <td>17</td>\n",
       "      <td>Unhappy</td>\n",
       "      <td>other</td>\n",
       "      <td>45</td>\n",
       "      <td>Afghanistan</td>\n",
       "      <td>25179</td>\n",
       "      <td>group head</td>\n",
       "      <td>No</td>\n",
       "      <td>1</td>\n",
       "      <td>Black</td>\n",
       "      <td>182</td>\n",
       "      <td>0 EUR</td>\n",
       "      <td>6182.05</td>\n",
       "    </tr>\n",
       "    <tr>\n",
       "      <th>1</th>\n",
       "      <td>2</td>\n",
       "      <td>1940.0</td>\n",
       "      <td>missing</td>\n",
       "      <td>25</td>\n",
       "      <td>4.9</td>\n",
       "      <td>Unhappy</td>\n",
       "      <td>female</td>\n",
       "      <td>17</td>\n",
       "      <td>Afghanistan</td>\n",
       "      <td>2278204</td>\n",
       "      <td>heavy vehicle and mobile equipment service tec...</td>\n",
       "      <td>No</td>\n",
       "      <td>0</td>\n",
       "      <td>Blond</td>\n",
       "      <td>172</td>\n",
       "      <td>0 EUR</td>\n",
       "      <td>6819.69</td>\n",
       "    </tr>\n",
       "    <tr>\n",
       "      <th>2</th>\n",
       "      <td>3</td>\n",
       "      <td>1940.0</td>\n",
       "      <td>missing</td>\n",
       "      <td>34</td>\n",
       "      <td>21</td>\n",
       "      <td>Unhappy</td>\n",
       "      <td>female</td>\n",
       "      <td>48</td>\n",
       "      <td>Afghanistan</td>\n",
       "      <td>822134</td>\n",
       "      <td>sorter</td>\n",
       "      <td>Bachelor</td>\n",
       "      <td>0</td>\n",
       "      <td>Blond</td>\n",
       "      <td>144</td>\n",
       "      <td>0 EUR</td>\n",
       "      <td>8663.53</td>\n",
       "    </tr>\n",
       "    <tr>\n",
       "      <th>3</th>\n",
       "      <td>4</td>\n",
       "      <td>1940.0</td>\n",
       "      <td>missing</td>\n",
       "      <td>70</td>\n",
       "      <td>18</td>\n",
       "      <td>Average</td>\n",
       "      <td>female</td>\n",
       "      <td>42</td>\n",
       "      <td>Albania</td>\n",
       "      <td>59477</td>\n",
       "      <td>quality control senior engineer</td>\n",
       "      <td>No</td>\n",
       "      <td>1</td>\n",
       "      <td>Brown</td>\n",
       "      <td>152</td>\n",
       "      <td>0 EUR</td>\n",
       "      <td>2400.64</td>\n",
       "    </tr>\n",
       "    <tr>\n",
       "      <th>4</th>\n",
       "      <td>5</td>\n",
       "      <td>1940.0</td>\n",
       "      <td>missing</td>\n",
       "      <td>51</td>\n",
       "      <td>8</td>\n",
       "      <td>Happy</td>\n",
       "      <td>other</td>\n",
       "      <td>15</td>\n",
       "      <td>Albania</td>\n",
       "      <td>23494</td>\n",
       "      <td>logistician</td>\n",
       "      <td>Master</td>\n",
       "      <td>1</td>\n",
       "      <td>Black</td>\n",
       "      <td>180</td>\n",
       "      <td>0 EUR</td>\n",
       "      <td>2816.18</td>\n",
       "    </tr>\n",
       "  </tbody>\n",
       "</table>\n",
       "</div>"
      ],
      "text/plain": [
       "   Instance  Year of Record Housing Situation  \\\n",
       "0         1          1940.0           missing   \n",
       "1         2          1940.0           missing   \n",
       "2         3          1940.0           missing   \n",
       "3         4          1940.0           missing   \n",
       "4         5          1940.0           missing   \n",
       "\n",
       "   Crime Level in the City of Employement  \\\n",
       "0                                      33   \n",
       "1                                      25   \n",
       "2                                      34   \n",
       "3                                      70   \n",
       "4                                      51   \n",
       "\n",
       "  Work Experience in Current Job [years] Satisfation with employer  Gender  \\\n",
       "0                                     17                   Unhappy   other   \n",
       "1                                    4.9                   Unhappy  female   \n",
       "2                                     21                   Unhappy  female   \n",
       "3                                     18                   Average  female   \n",
       "4                                      8                     Happy   other   \n",
       "\n",
       "   Age      Country  Size of City  \\\n",
       "0   45  Afghanistan         25179   \n",
       "1   17  Afghanistan       2278204   \n",
       "2   48  Afghanistan        822134   \n",
       "3   42      Albania         59477   \n",
       "4   15      Albania         23494   \n",
       "\n",
       "                                          Profession University Degree  \\\n",
       "0                                         group head                No   \n",
       "1  heavy vehicle and mobile equipment service tec...                No   \n",
       "2                                             sorter          Bachelor   \n",
       "3                    quality control senior engineer                No   \n",
       "4                                        logistician            Master   \n",
       "\n",
       "   Wears Glasses Hair Color  Body Height [cm]  \\\n",
       "0              1      Black               182   \n",
       "1              0      Blond               172   \n",
       "2              0      Blond               144   \n",
       "3              1      Brown               152   \n",
       "4              1      Black               180   \n",
       "\n",
       "  Yearly Income in addition to Salary (e.g. Rental Income)  \\\n",
       "0                                              0 EUR         \n",
       "1                                              0 EUR         \n",
       "2                                              0 EUR         \n",
       "3                                              0 EUR         \n",
       "4                                              0 EUR         \n",
       "\n",
       "   Total Yearly Income [EUR]  \n",
       "0                    6182.05  \n",
       "1                    6819.69  \n",
       "2                    8663.53  \n",
       "3                    2400.64  \n",
       "4                    2816.18  "
      ]
     },
     "execution_count": 14,
     "metadata": {},
     "output_type": "execute_result"
    }
   ],
   "source": [
    "data.head(5)"
   ]
  },
  {
   "cell_type": "code",
   "execution_count": 15,
   "metadata": {},
   "outputs": [
    {
     "data": {
      "text/plain": [
       "Instance                                                      int64\n",
       "Year of Record                                              float64\n",
       "Housing Situation                                            object\n",
       "Crime Level in the City of Employement                        int64\n",
       "Work Experience in Current Job [years]                       object\n",
       "Satisfation with employer                                    object\n",
       "Gender                                                       object\n",
       "Age                                                           int64\n",
       "Country                                                      object\n",
       "Size of City                                                  int64\n",
       "Profession                                                   object\n",
       "University Degree                                            object\n",
       "Wears Glasses                                                 int64\n",
       "Hair Color                                                   object\n",
       "Body Height [cm]                                              int64\n",
       "Yearly Income in addition to Salary (e.g. Rental Income)     object\n",
       "Total Yearly Income [EUR]                                   float64\n",
       "dtype: object"
      ]
     },
     "execution_count": 15,
     "metadata": {},
     "output_type": "execute_result"
    }
   ],
   "source": [
    "data.dtypes"
   ]
  },
  {
   "cell_type": "code",
   "execution_count": 16,
   "metadata": {},
   "outputs": [],
   "source": [
    "#changing datatype to float so that it takes less space\n",
    "data['Yearly Income in addition to Salary (e.g. Rental Income)'] = data['Yearly Income in addition to Salary (e.g. Rental Income)'].str.replace(\"\\sEUR\", \"\")\n",
    "data['Yearly Income in addition to Salary (e.g. Rental Income)']=pd.to_numeric(data['Yearly Income in addition to Salary (e.g. Rental Income)'])\n",
    "#changing datatype to save space\n",
    "data['Work Experience in Current Job [years]'] = pd.to_numeric(data['Work Experience in Current Job [years]'])\n",
    "#filling work exp..... missing value col with mean\n",
    "data['Work Experience in Current Job [years]'] = data['Work Experience in Current Job [years]'].fillna(data['Work Experience in Current Job [years]'].mean())"
   ]
  },
  {
   "cell_type": "code",
   "execution_count": 17,
   "metadata": {},
   "outputs": [
    {
     "data": {
      "text/plain": [
       "Instance                                                      int64\n",
       "Year of Record                                              float64\n",
       "Housing Situation                                            object\n",
       "Crime Level in the City of Employement                        int64\n",
       "Work Experience in Current Job [years]                      float64\n",
       "Satisfation with employer                                    object\n",
       "Gender                                                       object\n",
       "Age                                                           int64\n",
       "Country                                                      object\n",
       "Size of City                                                  int64\n",
       "Profession                                                   object\n",
       "University Degree                                            object\n",
       "Wears Glasses                                                 int64\n",
       "Hair Color                                                   object\n",
       "Body Height [cm]                                              int64\n",
       "Yearly Income in addition to Salary (e.g. Rental Income)    float64\n",
       "Total Yearly Income [EUR]                                   float64\n",
       "dtype: object"
      ]
     },
     "execution_count": 17,
     "metadata": {},
     "output_type": "execute_result"
    }
   ],
   "source": [
    "data.dtypes"
   ]
  },
  {
   "cell_type": "code",
   "execution_count": 18,
   "metadata": {},
   "outputs": [],
   "source": [
    "data.to_csv(\"traindataset.csv\") #saving cleaned data to new file"
   ]
  }
 ],
 "metadata": {
  "kernelspec": {
   "display_name": "Python 2",
   "language": "python",
   "name": "python2"
  },
  "language_info": {
   "codemirror_mode": {
    "name": "ipython",
    "version": 2
   },
   "file_extension": ".py",
   "mimetype": "text/x-python",
   "name": "python",
   "nbconvert_exporter": "python",
   "pygments_lexer": "ipython2",
   "version": "2.7.12"
  }
 },
 "nbformat": 4,
 "nbformat_minor": 2
}
