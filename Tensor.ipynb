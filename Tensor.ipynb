{
 "cells": [
  {
   "cell_type": "code",
   "execution_count": 1,
   "metadata": {},
   "outputs": [],
   "source": [
    "import pandas as pd  \n",
    "import numpy as np  \n",
    "import matplotlib.pyplot as plt  \n",
    "from sklearn.model_selection import train_test_split \n",
    "from sklearn.linear_model import LinearRegression\n",
    "from sklearn import metrics\n",
    "from sklearn.preprocessing import LabelEncoder\n",
    "from sklearn.preprocessing import OneHotEncoder\n",
    "import seaborn as sns\n",
    "import category_encoders as ce\n",
    "from sklearn.preprocessing import LabelBinarizer\n",
    "#import xgboost as xgb\n",
    "from sklearn.ensemble import RandomForestRegressor"
   ]
  },
  {
   "cell_type": "markdown",
   "metadata": {},
   "source": [
    "# To load Input data"
   ]
  },
  {
   "cell_type": "code",
   "execution_count": 2,
   "metadata": {},
   "outputs": [
    {
     "name": "stderr",
     "output_type": "stream",
     "text": [
      "/users/ugrad/farrej10/anaconda3/lib/python3.7/site-packages/IPython/core/interactiveshell.py:3058: DtypeWarning: Columns (2,4) have mixed types. Specify dtype option on import or set low_memory=False.\n",
      "  interactivity=interactivity, compiler=compiler, result=result)\n",
      "/users/ugrad/farrej10/anaconda3/lib/python3.7/site-packages/IPython/core/interactiveshell.py:3058: DtypeWarning: Columns (4) have mixed types. Specify dtype option on import or set low_memory=False.\n",
      "  interactivity=interactivity, compiler=compiler, result=result)\n"
     ]
    }
   ],
   "source": [
    "dataset_test = pd.read_csv('../data/tcd-ml-1920-group-income-train.csv')\n",
    "dataset_pred = pd.read_csv('../data/tcd-ml-1920-group-income-test.csv')\n",
    "store_data = dataset_pred.filter(['Instance'], axis=1)\n",
    "dataset_test.columns = dataset_test.columns.str.strip().str.replace(' ', '_').str.replace('(', '').str.replace(')', '')\n",
    "dataset_pred.columns = dataset_pred.columns.str.strip().str.replace(' ', '_').str.replace('(', '').str.replace(')', '')\n",
    "\n",
    "dataset_test.rename(columns={'Work_Experience_in_Current_Job_[years]': 'Work_Experience_in_Current_Job'}, inplace=True)\n",
    "dataset_pred.rename(columns={'Work_Experience_in_Current_Job_[years]': 'Work_Experience_in_Current_Job'}, inplace=True)"
   ]
  },
  {
   "cell_type": "markdown",
   "metadata": {},
   "source": [
    "# Remove Instance Column"
   ]
  },
  {
   "cell_type": "code",
   "execution_count": 3,
   "metadata": {},
   "outputs": [],
   "source": [
    "dataset_test = dataset_test.drop('Instance', 1)\n",
    "dataset_pred = dataset_pred.drop('Instance', 1)\n",
    "dataset_test.drop(dataset_test.loc[dataset_test['Total_Yearly_Income_[EUR]']==2548791].index, inplace=True)"
   ]
  },
  {
   "cell_type": "markdown",
   "metadata": {},
   "source": [
    "# Change null to rand value between std dev around mean. Alternate could be panda interpolate\n"
   ]
  },
  {
   "cell_type": "code",
   "execution_count": 4,
   "metadata": {},
   "outputs": [
    {
     "name": "stderr",
     "output_type": "stream",
     "text": [
      "/users/ugrad/farrej10/anaconda3/lib/python3.7/site-packages/ipykernel_launcher.py:5: SettingWithCopyWarning: \n",
      "A value is trying to be set on a copy of a slice from a DataFrame\n",
      "\n",
      "See the caveats in the documentation: http://pandas.pydata.org/pandas-docs/stable/user_guide/indexing.html#returning-a-view-versus-a-copy\n",
      "  \"\"\"\n",
      "/users/ugrad/farrej10/anaconda3/lib/python3.7/site-packages/ipykernel_launcher.py:12: SettingWithCopyWarning: \n",
      "A value is trying to be set on a copy of a slice from a DataFrame\n",
      "\n",
      "See the caveats in the documentation: http://pandas.pydata.org/pandas-docs/stable/user_guide/indexing.html#returning-a-view-versus-a-copy\n",
      "  if sys.path[0] == '':\n"
     ]
    }
   ],
   "source": [
    "Column_Name_avg = dataset_test['Year_of_Record'].mean()\n",
    "Column_Name_std = dataset_test['Year_of_Record'].std()\n",
    "Column_Name_null_count = dataset_test['Year_of_Record'].isnull().sum()\n",
    "Column_Name_null_random_list = np.random.randint(Column_Name_avg - Column_Name_std, Column_Name_avg + Column_Name_std, size=Column_Name_null_count)\n",
    "dataset_test['Year_of_Record'][np.isnan(dataset_test['Year_of_Record'])] = Column_Name_null_random_list\n",
    "dataset_test['Year_of_Record'] = dataset_test['Year_of_Record'].astype(int)\n",
    "\n",
    "Column_Name_avg = dataset_pred['Year_of_Record'].mean()\n",
    "Column_Name_std = dataset_pred['Year_of_Record'].std()\n",
    "Column_Name_null_count = dataset_pred['Year_of_Record'].isnull().sum()\n",
    "Column_Name_null_random_list = np.random.randint(Column_Name_avg - Column_Name_std, Column_Name_avg + Column_Name_std, size=Column_Name_null_count)\n",
    "dataset_pred['Year_of_Record'][np.isnan(dataset_pred['Year_of_Record'])] = Column_Name_null_random_list\n",
    "dataset_pred['Year_of_Record'] = dataset_pred['Year_of_Record'].astype(int)"
   ]
  },
  {
   "cell_type": "markdown",
   "metadata": {},
   "source": [
    "# Filling Gender Nan and other values\n"
   ]
  },
  {
   "cell_type": "code",
   "execution_count": 5,
   "metadata": {},
   "outputs": [],
   "source": [
    "dataset_test.Gender = dataset_test.Gender.replace(\"f\", \"female\")\n",
    "dataset_test[\"Gender\"].fillna(\"unknown\", inplace = True)\n",
    "dataset_test.Gender = dataset_test.Gender.replace(\"0\", \"unknown\")\n",
    "\n",
    "dataset_pred.Gender = dataset_pred.Gender.replace(\"f\", \"female\")\n",
    "dataset_pred[\"Gender\"].fillna(\"unknown\", inplace = True)\n",
    "dataset_pred.Gender = dataset_pred.Gender.replace(\"0\", \"unknown\")"
   ]
  },
  {
   "cell_type": "markdown",
   "metadata": {},
   "source": [
    "# Filling University Degree Nan Values"
   ]
  },
  {
   "cell_type": "code",
   "execution_count": 6,
   "metadata": {},
   "outputs": [],
   "source": [
    "dataset_test.University_Degree = dataset_test.University_Degree.replace(\"0\", \"No\")\n",
    "dataset_test[\"University_Degree\"].fillna(\"No\", inplace = True)\n",
    "\n",
    "dataset_pred.University_Degree = dataset_pred.University_Degree.replace(\"0\", \"No\")\n",
    "dataset_pred[\"University_Degree\"].fillna(\"No\", inplace = True)"
   ]
  },
  {
   "cell_type": "markdown",
   "metadata": {},
   "source": [
    "# Filling Haircolor Nan Values"
   ]
  },
  {
   "cell_type": "code",
   "execution_count": 7,
   "metadata": {},
   "outputs": [],
   "source": [
    "dataset_test.Hair_Color = dataset_test.Hair_Color.replace(\"0\", \"Unknown\")\n",
    "dataset_test[\"Hair_Color\"].fillna(\"Unknown\", inplace = True)\n",
    "dataset_test = dataset_test.drop('Hair_Color', 1)\n",
    "\n",
    "dataset_pred.Hair_Color = dataset_pred.Hair_Color.replace(\"0\", \"Unknown\")\n",
    "dataset_pred[\"Hair_Color\"].fillna(\"Unknown\", inplace = True)\n",
    "dataset_pred = dataset_pred.drop('Hair_Color', 1)"
   ]
  },
  {
   "cell_type": "markdown",
   "metadata": {},
   "source": [
    "# Filling Profession Nan Values"
   ]
  },
  {
   "cell_type": "code",
   "execution_count": 8,
   "metadata": {},
   "outputs": [],
   "source": [
    "dataset_test[\"Profession\"].fillna(\"Unknown\", inplace = True)\n",
    "dataset_pred[\"Profession\"].fillna(\"Unknown\", inplace = True)"
   ]
  },
  {
   "cell_type": "markdown",
   "metadata": {},
   "source": [
    "# Filling Housing_Situation Corrupt Values"
   ]
  },
  {
   "cell_type": "code",
   "execution_count": 9,
   "metadata": {},
   "outputs": [],
   "source": [
    "dataset_test[\"Housing_Situation\"] = dataset_test[\"Housing_Situation\"].replace(0,'Unknown')\n",
    "dataset_test[\"Housing_Situation\"] = dataset_test[\"Housing_Situation\"].replace('0','Unknown')\n",
    "dataset_test[\"Housing_Situation\"] = dataset_test[\"Housing_Situation\"].replace('nA','Unknown')\n",
    "\n",
    "dataset_pred[\"Housing_Situation\"] = dataset_pred[\"Housing_Situation\"].replace(0,'Unknown')\n",
    "dataset_pred[\"Housing_Situation\"] = dataset_pred[\"Housing_Situation\"].replace('0','Unknown')\n",
    "dataset_pred[\"Housing_Situation\"] = dataset_pred[\"Housing_Situation\"].replace('nA','Unknown')\n",
    "\n",
    "\n",
    "dataset_test['Satisfation_with_employer'] = dataset_test['Satisfation_with_employer'].fillna(method='ffill')\n",
    "dataset_pred['Satisfation_with_employer'] = dataset_pred['Satisfation_with_employer'].fillna(method='ffill')"
   ]
  },
  {
   "cell_type": "markdown",
   "metadata": {},
   "source": [
    "# Convert work Experience in current job to float and replace #NUM! to mean of their Age"
   ]
  },
  {
   "cell_type": "code",
   "execution_count": 10,
   "metadata": {},
   "outputs": [
    {
     "name": "stderr",
     "output_type": "stream",
     "text": [
      "/users/ugrad/farrej10/anaconda3/lib/python3.7/site-packages/ipykernel_launcher.py:3: UserWarning: Pandas doesn't allow columns to be created via a new attribute name - see https://pandas.pydata.org/pandas-docs/stable/indexing.html#attribute-access\n",
      "  This is separate from the ipykernel package so we can avoid doing imports until\n",
      "/users/ugrad/farrej10/anaconda3/lib/python3.7/site-packages/ipykernel_launcher.py:8: UserWarning: Pandas doesn't allow columns to be created via a new attribute name - see https://pandas.pydata.org/pandas-docs/stable/indexing.html#attribute-access\n",
      "  \n"
     ]
    }
   ],
   "source": [
    "dataset_test.Work_Experience_in_Current_Job = dataset_test.Work_Experience_in_Current_Job.replace(\"#NUM!\", None)\n",
    "dataset_test['Work_Experience_in_Current_Job'] = dataset_test['Work_Experience_in_Current_Job'].astype(float)\n",
    "dataset_test.value = dataset_test.groupby('Age')['Work_Experience_in_Current_Job'].apply(lambda x: x.fillna(x.median()))\n",
    "dataset_test.value = dataset_test.Work_Experience_in_Current_Job.fillna(dataset_test.Work_Experience_in_Current_Job.median())\n",
    "\n",
    "dataset_pred.Work_Experience_in_Current_Job = dataset_pred.Work_Experience_in_Current_Job.replace(\"#NUM!\", None)\n",
    "dataset_pred['Work_Experience_in_Current_Job'] = dataset_pred['Work_Experience_in_Current_Job'].astype(float)\n",
    "dataset_pred.value = dataset_pred.groupby('Age')['Work_Experience_in_Current_Job'].apply(lambda x: x.fillna(x.median()))\n",
    "dataset_pred.value = dataset_pred.Work_Experience_in_Current_Job.fillna(dataset_pred.Work_Experience_in_Current_Job.median())"
   ]
  },
  {
   "cell_type": "markdown",
   "metadata": {},
   "source": [
    "# Remove EUR in Yearly_Income to make it numerical value "
   ]
  },
  {
   "cell_type": "code",
   "execution_count": 11,
   "metadata": {},
   "outputs": [],
   "source": [
    "dataset_test['Yearly_Income_in_addition_to_Salary_e.g._Rental_Income'] = dataset_test['Yearly_Income_in_addition_to_Salary_e.g._Rental_Income'].replace('EUR', '', regex=True).astype(float)\n",
    "dataset_pred['Yearly_Income_in_addition_to_Salary_e.g._Rental_Income'] = dataset_pred['Yearly_Income_in_addition_to_Salary_e.g._Rental_Income'].replace('EUR', '', regex=True).astype(float)"
   ]
  },
  {
   "cell_type": "markdown",
   "metadata": {},
   "source": [
    "# Label encoding the categorical columns"
   ]
  },
  {
   "cell_type": "code",
   "execution_count": 12,
   "metadata": {},
   "outputs": [],
   "source": [
    "for col in dataset_test.dtypes[dataset_test.dtypes == 'object'].index.tolist():\n",
    "    feat_le = LabelEncoder()\n",
    "    train_list = dataset_test[col].unique()\n",
    "    dataset_test.loc[1201,col] = 'other'\n",
    "    test_list = dataset_pred[col].unique()\n",
    "    test_replace = list(set(test_list) - set(train_list))\n",
    "    dataset_pred[col] = dataset_pred[col].replace(test_replace, 'other')\n",
    "    feat_le.fit(dataset_test[col].unique().astype(str))\n",
    "    dataset_test[col] = feat_le.transform(dataset_test[col].astype(str))\n",
    "    dataset_pred[col] = feat_le.transform(dataset_pred[col].astype(str))\n",
    "\n"
   ]
  },
  {
   "cell_type": "markdown",
   "metadata": {},
   "source": [
    "### This function takes a string column name and returns a list\n",
    "### containing indices of dataframe that have outliers in that column\n",
    "### Refer: https://towardsdatascience.com/5-ways-to-detect-outliers-that-every-data-scientist-should-know-python-code-70a54335a623\n"
   ]
  },
  {
   "cell_type": "code",
   "execution_count": 13,
   "metadata": {},
   "outputs": [],
   "source": [
    "def OutlierByColumn(colname):\n",
    "    rows = dataset_test.shape[0]\n",
    "    col_std = np.std(dataset_test[colname])\n",
    "    col_mean = np.mean(dataset_test[colname])\n",
    "    anomaly_cut_off = col_std * 3\n",
    "    lower_limit  = col_mean - anomaly_cut_off \n",
    "    upper_limit = col_mean + anomaly_cut_off\n",
    "    anomalies_indices = []\n",
    "    for i in range(rows):\n",
    "        ele = dataset_test[colname][i]\n",
    "        if ele > upper_limit or ele < lower_limit:\n",
    "            anomalies_indices.append(i)\n",
    "    return anomalies_indices"
   ]
  },
  {
   "cell_type": "markdown",
   "metadata": {},
   "source": [
    "# Running outlier"
   ]
  },
  {
   "cell_type": "code",
   "execution_count": 14,
   "metadata": {},
   "outputs": [],
   "source": [
    "arr1 = OutlierByColumn('Work_Experience_in_Current_Job')\n",
    "arr2 = OutlierByColumn('Age')\n",
    "#arr3 = OutlierByColumn('Body_Height_[cm]')\n",
    "arr4 = OutlierByColumn('Yearly_Income_in_addition_to_Salary_e.g._Rental_Income')\n",
    "arr5 = OutlierByColumn('Size_of_City')"
   ]
  },
  {
   "cell_type": "code",
   "execution_count": 15,
   "metadata": {},
   "outputs": [],
   "source": [
    "#Union of all lists \n",
    "union_index = np.union1d(arr1,arr2)\n",
    "#union_index = np.union1d(union_index,arr3)\n",
    "union_index = np.union1d(union_index,arr4)\n",
    "union_index = np.union1d(union_index,arr5)\n",
    "len(union_index)\n",
    "dataset_test = dataset_test.drop(union_index)"
   ]
  },
  {
   "cell_type": "code",
   "execution_count": 16,
   "metadata": {},
   "outputs": [],
   "source": [
    "y = dataset_test['Total_Yearly_Income_[EUR]'].values\n",
    "dataset_test.drop('Total_Yearly_Income_[EUR]', axis=1, inplace=True)\n",
    "X = dataset_test[dataset_test.columns].values"
   ]
  },
  {
   "cell_type": "code",
   "execution_count": 17,
   "metadata": {},
   "outputs": [
    {
     "name": "stdout",
     "output_type": "stream",
     "text": [
      "(997110,)\n",
      "(997110, 14)\n"
     ]
    }
   ],
   "source": [
    "print(y.shape)\n",
    "print(X.shape)"
   ]
  },
  {
   "cell_type": "code",
   "execution_count": 81,
   "metadata": {},
   "outputs": [],
   "source": [
    "#split 80% of the data to the training set while 20% of the data to test set.\n",
    "#X_train, X_test, y_train, y_test = train_test_split(X, y, test_size=0.2, random_state=0)\n",
    "X_train, X_test, Y_train, Y_test = train_test_split(X, y, test_size=0.3)"
   ]
  },
  {
   "cell_type": "code",
   "execution_count": 82,
   "metadata": {},
   "outputs": [
    {
     "name": "stdout",
     "output_type": "stream",
     "text": [
      "(697977, 14) (299133, 14)\n",
      "(697977,) (299133,)\n"
     ]
    }
   ],
   "source": [
    "print(X_train.shape, X_test.shape)\n",
    "print(Y_train.shape Y_test.shape)"
   ]
  },
  {
   "cell_type": "code",
   "execution_count": 83,
   "metadata": {},
   "outputs": [],
   "source": [
    "\n",
    "#dataset_pred.drop('Total_Yearly_Income_[EUR]', axis=1, inplace=True)\n",
    "#X_test = dataset_pred[dataset_pred.columns].values"
   ]
  },
  {
   "cell_type": "markdown",
   "metadata": {},
   "source": [
    "# KERAS Model"
   ]
  },
  {
   "cell_type": "code",
   "execution_count": 52,
   "metadata": {},
   "outputs": [],
   "source": [
    "from keras.models import Sequential\n",
    "from keras.layers import Dense\n",
    "from keras import optimizers\n"
   ]
  },
  {
   "cell_type": "code",
   "execution_count": null,
   "metadata": {},
   "outputs": [],
   "source": []
  },
  {
   "cell_type": "code",
   "execution_count": 156,
   "metadata": {},
   "outputs": [],
   "source": [
    "model = Sequential()\n",
    "model.add(Dense(500, input_dim=14, activation= \"relu\"))\n",
    "model.add(Dense(100, activation= \"relu\"))\n",
    "model.add(Dense(50, activation= \"relu\"))\n",
    "model.add(Dense(1))"
   ]
  },
  {
   "cell_type": "code",
   "execution_count": 157,
   "metadata": {},
   "outputs": [],
   "source": [
    "model.compile(loss= \"mean_absolute_error\" , optimizer=\"adam\", metrics=[\"mean_squared_error\",\"mean_absolute_error\"])"
   ]
  },
  {
   "cell_type": "code",
   "execution_count": 158,
   "metadata": {},
   "outputs": [
    {
     "name": "stdout",
     "output_type": "stream",
     "text": [
      "_________________________________________________________________\n",
      "Layer (type)                 Output Shape              Param #   \n",
      "=================================================================\n",
      "dense_60 (Dense)             (None, 500)               7500      \n",
      "_________________________________________________________________\n",
      "dense_61 (Dense)             (None, 100)               50100     \n",
      "_________________________________________________________________\n",
      "dense_62 (Dense)             (None, 50)                5050      \n",
      "_________________________________________________________________\n",
      "dense_63 (Dense)             (None, 1)                 51        \n",
      "=================================================================\n",
      "Total params: 62,701\n",
      "Trainable params: 62,701\n",
      "Non-trainable params: 0\n",
      "_________________________________________________________________\n"
     ]
    }
   ],
   "source": [
    "model.summary()"
   ]
  },
  {
   "cell_type": "code",
   "execution_count": 159,
   "metadata": {},
   "outputs": [
    {
     "name": "stdout",
     "output_type": "stream",
     "text": [
      "Train on 348988 samples, validate on 348989 samples\n",
      "Epoch 1/50\n",
      "348988/348988 [==============================] - 2s 4us/step - loss: 56078.1888 - mean_squared_error: 13830431467.4929 - mean_absolute_error: 56078.1888 - val_loss: 57008.9104 - val_mean_squared_error: 13000267107.3803 - val_mean_absolute_error: 57008.9104\n",
      "Epoch 2/50\n",
      "348988/348988 [==============================] - 1s 3us/step - loss: 55251.1320 - mean_squared_error: 13719629793.2261 - mean_absolute_error: 55251.1320 - val_loss: 55314.5260 - val_mean_squared_error: 13522954728.4106 - val_mean_absolute_error: 55314.5260\n",
      "Epoch 3/50\n",
      "348988/348988 [==============================] - 1s 3us/step - loss: 55187.6437 - mean_squared_error: 13685353477.0233 - mean_absolute_error: 55187.6437 - val_loss: 55297.4375 - val_mean_squared_error: 13539766938.1785 - val_mean_absolute_error: 55297.4375\n",
      "Epoch 4/50\n",
      "348988/348988 [==============================] - 1s 3us/step - loss: 55142.9712 - mean_squared_error: 13681565422.1337 - mean_absolute_error: 55142.9712 - val_loss: 55331.7159 - val_mean_squared_error: 13752262715.4555 - val_mean_absolute_error: 55331.7159\n",
      "Epoch 5/50\n",
      "348988/348988 [==============================] - 1s 3us/step - loss: 55113.4051 - mean_squared_error: 13678000547.9190 - mean_absolute_error: 55113.4051 - val_loss: 55302.9253 - val_mean_squared_error: 13393376241.2440 - val_mean_absolute_error: 55302.9253\n",
      "Epoch 6/50\n",
      "348988/348988 [==============================] - 1s 3us/step - loss: 55068.5249 - mean_squared_error: 13660754764.5444 - mean_absolute_error: 55068.5249 - val_loss: 55274.8494 - val_mean_squared_error: 13696489802.1345 - val_mean_absolute_error: 55274.8494\n",
      "Epoch 7/50\n",
      "348988/348988 [==============================] - 1s 3us/step - loss: 55041.1872 - mean_squared_error: 13656513283.6472 - mean_absolute_error: 55041.1872 - val_loss: 55230.5420 - val_mean_squared_error: 13379778891.0412 - val_mean_absolute_error: 55230.5420\n",
      "Epoch 8/50\n",
      "348988/348988 [==============================] - 1s 3us/step - loss: 55105.4876 - mean_squared_error: 13652190926.9842 - mean_absolute_error: 55105.4876 - val_loss: 55214.0517 - val_mean_squared_error: 13643366021.2460 - val_mean_absolute_error: 55214.0517\n",
      "Epoch 9/50\n",
      "348988/348988 [==============================] - 1s 3us/step - loss: 55024.2693 - mean_squared_error: 13646000045.7955 - mean_absolute_error: 55024.2693 - val_loss: 55229.3863 - val_mean_squared_error: 13678100850.0013 - val_mean_absolute_error: 55229.3863\n",
      "Epoch 10/50\n",
      "348988/348988 [==============================] - 1s 3us/step - loss: 54982.1952 - mean_squared_error: 13633957602.9368 - mean_absolute_error: 54982.1952 - val_loss: 55489.0565 - val_mean_squared_error: 13068562607.8108 - val_mean_absolute_error: 55489.0565\n",
      "Epoch 11/50\n",
      "348988/348988 [==============================] - 1s 3us/step - loss: 54981.9359 - mean_squared_error: 13624307283.9474 - mean_absolute_error: 54981.9359 - val_loss: 55163.9212 - val_mean_squared_error: 13514059481.9091 - val_mean_absolute_error: 55163.9212\n",
      "Epoch 12/50\n",
      "348988/348988 [==============================] - 1s 3us/step - loss: 54975.8788 - mean_squared_error: 13619506810.1507 - mean_absolute_error: 54975.8788 - val_loss: 55113.0454 - val_mean_squared_error: 13525644676.5836 - val_mean_absolute_error: 55113.0454\n",
      "Epoch 13/50\n",
      "348988/348988 [==============================] - 1s 3us/step - loss: 54945.6978 - mean_squared_error: 13613821364.8082 - mean_absolute_error: 54945.6978 - val_loss: 55317.3278 - val_mean_squared_error: 13182048052.2616 - val_mean_absolute_error: 55317.3278\n",
      "Epoch 14/50\n",
      "348988/348988 [==============================] - 1s 3us/step - loss: 54946.7698 - mean_squared_error: 13605102229.3448 - mean_absolute_error: 54946.7698 - val_loss: 55285.5470 - val_mean_squared_error: 13210098170.1654 - val_mean_absolute_error: 55285.5470\n",
      "Epoch 15/50\n",
      "348988/348988 [==============================] - 1s 3us/step - loss: 54914.5147 - mean_squared_error: 13602931210.5103 - mean_absolute_error: 54914.5147 - val_loss: 55143.0378 - val_mean_squared_error: 13280373416.3565 - val_mean_absolute_error: 55143.0378\n",
      "Epoch 16/50\n",
      "348988/348988 [==============================] - 1s 3us/step - loss: 54925.9437 - mean_squared_error: 13591699196.6169 - mean_absolute_error: 54925.9437 - val_loss: 55096.3768 - val_mean_squared_error: 13514701235.0201 - val_mean_absolute_error: 55096.3768\n",
      "Epoch 17/50\n",
      "348988/348988 [==============================] - 1s 3us/step - loss: 54910.7095 - mean_squared_error: 13591074485.9966 - mean_absolute_error: 54910.7095 - val_loss: 55109.7807 - val_mean_squared_error: 13599877962.9223 - val_mean_absolute_error: 55109.7807\n",
      "Epoch 18/50\n",
      "348988/348988 [==============================] - 1s 3us/step - loss: 54881.2702 - mean_squared_error: 13582749045.1009 - mean_absolute_error: 54881.2702 - val_loss: 55063.8260 - val_mean_squared_error: 13359412472.7225 - val_mean_absolute_error: 55063.8260\n",
      "Epoch 19/50\n",
      "348988/348988 [==============================] - 1s 3us/step - loss: 54881.9255 - mean_squared_error: 13573865226.5954 - mean_absolute_error: 54881.9255 - val_loss: 55191.4963 - val_mean_squared_error: 13773819003.7172 - val_mean_absolute_error: 55191.4963\n",
      "Epoch 20/50\n",
      "348988/348988 [==============================] - 1s 3us/step - loss: 54849.6590 - mean_squared_error: 13576765252.0705 - mean_absolute_error: 54849.6590 - val_loss: 55029.8997 - val_mean_squared_error: 13523660208.2062 - val_mean_absolute_error: 55029.8997\n",
      "Epoch 21/50\n",
      "348988/348988 [==============================] - 1s 3us/step - loss: 54829.3757 - mean_squared_error: 13557869417.6517 - mean_absolute_error: 54829.3757 - val_loss: 55027.1327 - val_mean_squared_error: 13535152606.8451 - val_mean_absolute_error: 55027.1327\n",
      "Epoch 22/50\n",
      "348988/348988 [==============================] - 1s 3us/step - loss: 54805.1976 - mean_squared_error: 13547834474.4175 - mean_absolute_error: 54805.1976 - val_loss: 54942.8115 - val_mean_squared_error: 13405317793.4406 - val_mean_absolute_error: 54942.8115\n",
      "Epoch 23/50\n",
      "348988/348988 [==============================] - 1s 3us/step - loss: 54776.1879 - mean_squared_error: 13544086229.0521 - mean_absolute_error: 54776.1879 - val_loss: 54930.1750 - val_mean_squared_error: 13319290309.2091 - val_mean_absolute_error: 54930.1750\n",
      "Epoch 24/50\n",
      "348988/348988 [==============================] - 1s 3us/step - loss: 54788.2530 - mean_squared_error: 13537785653.4112 - mean_absolute_error: 54788.2530 - val_loss: 55027.5651 - val_mean_squared_error: 13215468316.9084 - val_mean_absolute_error: 55027.5651\n",
      "Epoch 25/50\n",
      "348988/348988 [==============================] - 1s 3us/step - loss: 54754.5081 - mean_squared_error: 13526203264.1863 - mean_absolute_error: 54754.5081 - val_loss: 54892.0516 - val_mean_squared_error: 13462302221.2200 - val_mean_absolute_error: 54892.0516\n",
      "Epoch 26/50\n",
      "348988/348988 [==============================] - 1s 3us/step - loss: 54717.4998 - mean_squared_error: 13518308630.2559 - mean_absolute_error: 54717.4998 - val_loss: 55140.8529 - val_mean_squared_error: 13655839877.3795 - val_mean_absolute_error: 55140.8529\n",
      "Epoch 27/50\n",
      "348988/348988 [==============================] - 1s 3us/step - loss: 54711.6313 - mean_squared_error: 13520666545.5395 - mean_absolute_error: 54711.6313 - val_loss: 54949.5984 - val_mean_squared_error: 13401947533.9612 - val_mean_absolute_error: 54949.5984\n",
      "Epoch 28/50\n",
      "348988/348988 [==============================] - 1s 3us/step - loss: 54707.8214 - mean_squared_error: 13512055683.5548 - mean_absolute_error: 54707.8214 - val_loss: 55061.1682 - val_mean_squared_error: 13057596801.3706 - val_mean_absolute_error: 55061.1682\n",
      "Epoch 29/50\n",
      "348988/348988 [==============================] - 1s 3us/step - loss: 54670.3372 - mean_squared_error: 13501707695.9727 - mean_absolute_error: 54670.3372 - val_loss: 55201.8614 - val_mean_squared_error: 12986193952.6429 - val_mean_absolute_error: 55201.8614\n",
      "Epoch 30/50\n",
      "348988/348988 [==============================] - 1s 3us/step - loss: 54665.3142 - mean_squared_error: 13509518480.2687 - mean_absolute_error: 54665.3142 - val_loss: 54814.8752 - val_mean_squared_error: 13435926481.2202 - val_mean_absolute_error: 54814.8752\n",
      "Epoch 31/50\n"
     ]
    },
    {
     "name": "stdout",
     "output_type": "stream",
     "text": [
      "348988/348988 [==============================] - 1s 3us/step - loss: 54629.8177 - mean_squared_error: 13496673606.3415 - mean_absolute_error: 54629.8177 - val_loss: 54916.8468 - val_mean_squared_error: 13665644556.0537 - val_mean_absolute_error: 54916.8468\n",
      "Epoch 32/50\n",
      "348988/348988 [==============================] - 1s 3us/step - loss: 54611.2503 - mean_squared_error: 13504371443.3448 - mean_absolute_error: 54611.2503 - val_loss: 54793.9411 - val_mean_squared_error: 13254948330.6904 - val_mean_absolute_error: 54793.9411\n",
      "Epoch 33/50\n",
      "348988/348988 [==============================] - 1s 3us/step - loss: 54873.6296 - mean_squared_error: 13525159741.2749 - mean_absolute_error: 54873.6296 - val_loss: 55582.5640 - val_mean_squared_error: 13961086285.0951 - val_mean_absolute_error: 55582.5640\n",
      "Epoch 34/50\n",
      "348988/348988 [==============================] - 1s 3us/step - loss: 54927.0743 - mean_squared_error: 13614227299.8654 - mean_absolute_error: 54927.0743 - val_loss: 55032.9687 - val_mean_squared_error: 13562711657.8993 - val_mean_absolute_error: 55032.9687\n",
      "Epoch 35/50\n",
      "348988/348988 [==============================] - 1s 3us/step - loss: 54734.5259 - mean_squared_error: 13564781231.1892 - mean_absolute_error: 54734.5259 - val_loss: 54892.1361 - val_mean_squared_error: 13108163844.8143 - val_mean_absolute_error: 54892.1361\n",
      "Epoch 36/50\n",
      "348988/348988 [==============================] - 1s 3us/step - loss: 54561.4381 - mean_squared_error: 13494029591.4178 - mean_absolute_error: 54561.4381 - val_loss: 54782.2230 - val_mean_squared_error: 13571389357.0094 - val_mean_absolute_error: 54782.2230\n",
      "Epoch 37/50\n",
      "348988/348988 [==============================] - 1s 3us/step - loss: 54552.0962 - mean_squared_error: 13479841402.3971 - mean_absolute_error: 54552.0962 - val_loss: 54839.4803 - val_mean_squared_error: 13077706275.9864 - val_mean_absolute_error: 54839.4803\n",
      "Epoch 38/50\n",
      "348988/348988 [==============================] - 1s 3us/step - loss: 54576.6046 - mean_squared_error: 13490742345.0498 - mean_absolute_error: 54576.6046 - val_loss: 54775.7490 - val_mean_squared_error: 12975770368.1562 - val_mean_absolute_error: 54775.7490\n",
      "Epoch 39/50\n",
      "348988/348988 [==============================] - 1s 3us/step - loss: 54552.0663 - mean_squared_error: 13475452975.0880 - mean_absolute_error: 54552.0663 - val_loss: 54721.5622 - val_mean_squared_error: 13300723611.6038 - val_mean_absolute_error: 54721.5622\n",
      "Epoch 40/50\n",
      "348988/348988 [==============================] - 1s 3us/step - loss: 54615.9762 - mean_squared_error: 13490454814.7768 - mean_absolute_error: 54615.9762 - val_loss: 54441.9646 - val_mean_squared_error: 13329748554.6355 - val_mean_absolute_error: 54441.9646\n",
      "Epoch 41/50\n",
      "348988/348988 [==============================] - 1s 3us/step - loss: 54553.5146 - mean_squared_error: 13483148834.8289 - mean_absolute_error: 54553.5146 - val_loss: 54460.8287 - val_mean_squared_error: 13136175162.3112 - val_mean_absolute_error: 54460.8287\n",
      "Epoch 42/50\n",
      "348988/348988 [==============================] - 1s 3us/step - loss: 54853.6167 - mean_squared_error: 13537581932.9732 - mean_absolute_error: 54853.6167 - val_loss: 55195.1775 - val_mean_squared_error: 13303390565.9242 - val_mean_absolute_error: 55195.1775\n",
      "Epoch 43/50\n",
      "348988/348988 [==============================] - 1s 3us/step - loss: 54811.9602 - mean_squared_error: 13597415670.2027 - mean_absolute_error: 54811.9602 - val_loss: 54911.1802 - val_mean_squared_error: 13257661043.2007 - val_mean_absolute_error: 54911.1802\n",
      "Epoch 44/50\n",
      "348988/348988 [==============================] - 1s 3us/step - loss: 54640.4185 - mean_squared_error: 13466326502.5605 - mean_absolute_error: 54640.4185 - val_loss: 55538.0647 - val_mean_squared_error: 13708234743.1065 - val_mean_absolute_error: 55538.0647\n",
      "Epoch 45/50\n",
      "348988/348988 [==============================] - 1s 3us/step - loss: 54946.1068 - mean_squared_error: 13625695071.5698 - mean_absolute_error: 54946.1068 - val_loss: 55650.3748 - val_mean_squared_error: 14085987489.5917 - val_mean_absolute_error: 55650.3748\n",
      "Epoch 46/50\n",
      "348988/348988 [==============================] - 1s 3us/step - loss: 54807.6074 - mean_squared_error: 13585821448.6236 - mean_absolute_error: 54807.6074 - val_loss: 55120.4324 - val_mean_squared_error: 13801146940.2345 - val_mean_absolute_error: 55120.4324\n",
      "Epoch 47/50\n",
      "348988/348988 [==============================] - 1s 3us/step - loss: 54734.0568 - mean_squared_error: 13570154296.7914 - mean_absolute_error: 54734.0568 - val_loss: 54844.3565 - val_mean_squared_error: 13362386619.0238 - val_mean_absolute_error: 54844.3565\n",
      "Epoch 48/50\n",
      "348988/348988 [==============================] - 1s 3us/step - loss: 54701.5808 - mean_squared_error: 13540516297.2185 - mean_absolute_error: 54701.5808 - val_loss: 54805.0269 - val_mean_squared_error: 13432115237.5752 - val_mean_absolute_error: 54805.0269\n",
      "Epoch 49/50\n",
      "348988/348988 [==============================] - 1s 3us/step - loss: 54691.1333 - mean_squared_error: 13522327662.2906 - mean_absolute_error: 54691.1333 - val_loss: 54871.6702 - val_mean_squared_error: 13139153283.4187 - val_mean_absolute_error: 54871.6702\n",
      "Epoch 50/50\n",
      "348988/348988 [==============================] - 1s 3us/step - loss: 54606.1063 - mean_squared_error: 13501792849.2597 - mean_absolute_error: 54606.1063 - val_loss: 54773.2463 - val_mean_squared_error: 13433564905.1317 - val_mean_absolute_error: 54773.2463\n"
     ]
    }
   ],
   "source": [
    "hist = model.fit(X_train, Y_train,\n",
    "          batch_size=1024, epochs=50,\n",
    "          validation_split=0.5)"
   ]
  },
  {
   "cell_type": "code",
   "execution_count": 160,
   "metadata": {},
   "outputs": [
    {
     "name": "stdout",
     "output_type": "stream",
     "text": [
      "299133/299133 [==============================] - 5s 17us/step\n"
     ]
    },
    {
     "data": {
      "text/plain": [
       "13677583654.149292"
      ]
     },
     "execution_count": 160,
     "metadata": {},
     "output_type": "execute_result"
    }
   ],
   "source": [
    "model.evaluate(X_test, Y_test)[1]"
   ]
  },
  {
   "cell_type": "markdown",
   "metadata": {},
   "source": [
    "# Visualizing Loss & Accuracy"
   ]
  },
  {
   "cell_type": "code",
   "execution_count": 161,
   "metadata": {},
   "outputs": [
    {
     "data": {
      "image/png": "[encoded data removed]",
      "text/plain": [
       "<Figure size 432x288 with 1 Axes>"
      ]
     },
     "metadata": {
      "needs_background": "light"
     },
     "output_type": "display_data"
    }
   ],
   "source": [
    "plt.plot(hist.history['loss'])\n",
    "plt.plot(hist.history['val_loss'])\n",
    "plt.title('Model loss')\n",
    "plt.ylabel('Loss')\n",
    "plt.xlabel('Epoch')\n",
    "plt.legend(['Train', 'Val'], loc='upper right')\n",
    "plt.show()"
   ]
  },
  {
   "cell_type": "markdown",
   "metadata": {},
   "source": [
    "# Output"
   ]
  },
  {
   "cell_type": "code",
   "execution_count": null,
   "metadata": {},
   "outputs": [],
   "source": [
    "#print('Mean Absolute Error:', metrics.mean_absolute_error(y_test, y_pred))  \n",
    "#print('Mean Squared Error:', metrics.mean_squared_error(y_test, y_pred))  \n",
    "#print('Root Mean Squared Error:', np.sqrt(metrics.mean_squared_error(y_test, y_pred)))"
   ]
  },
  {
   "cell_type": "code",
   "execution_count": null,
   "metadata": {},
   "outputs": [],
   "source": [
    "store_data['Total Yearly Income [EUR]'] = y_pred\n",
    "store_data.to_csv('output.csv', sep=',')"
   ]
  },
  {
   "cell_type": "code",
   "execution_count": null,
   "metadata": {},
   "outputs": [],
   "source": []
  }
 ],
 "metadata": {
  "kernelspec": {
   "display_name": "Python 3",
   "language": "python",
   "name": "python3"
  },
  "language_info": {
   "codemirror_mode": {
    "name": "ipython",
    "version": 3
   },
   "file_extension": ".py",
   "mimetype": "text/x-python",
   "name": "python",
   "nbconvert_exporter": "python",
   "pygments_lexer": "ipython3",
   "version": "3.7.4"
  }
 },
 "nbformat": 4,
 "nbformat_minor": 2
}
