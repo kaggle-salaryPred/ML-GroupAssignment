{
 "cells": [
  {
   "cell_type": "code",
   "execution_count": 229,
   "metadata": {},
   "outputs": [],
   "source": [
    "import pandas as pd  \n",
    "import numpy as np  \n",
    "import matplotlib.pyplot as plt  \n",
    "from sklearn.model_selection import train_test_split \n",
    "from sklearn.linear_model import LinearRegression\n",
    "from sklearn import metrics\n",
    "from sklearn.preprocessing import LabelEncoder\n",
    "from sklearn.preprocessing import OneHotEncoder\n",
    "from sklearn import preprocessing\n",
    "import seaborn as sns\n",
    "import category_encoders as ce\n",
    "from sklearn.preprocessing import LabelBinarizer\n",
    "#import xgboost as xgb\n",
    "from sklearn.ensemble import RandomForestRegressor"
   ]
  },
  {
   "cell_type": "markdown",
   "metadata": {},
   "source": [
    "# To load Input data"
   ]
  },
  {
   "cell_type": "code",
   "execution_count": 230,
   "metadata": {},
   "outputs": [
    {
     "name": "stderr",
     "output_type": "stream",
     "text": [
      "/home/james/miniconda3/lib/python3.7/site-packages/IPython/core/interactiveshell.py:3058: DtypeWarning: Columns (2,4) have mixed types. Specify dtype option on import or set low_memory=False.\n",
      "  interactivity=interactivity, compiler=compiler, result=result)\n",
      "/home/james/miniconda3/lib/python3.7/site-packages/IPython/core/interactiveshell.py:3058: DtypeWarning: Columns (4) have mixed types. Specify dtype option on import or set low_memory=False.\n",
      "  interactivity=interactivity, compiler=compiler, result=result)\n"
     ]
    }
   ],
   "source": [
    "dataset_test = pd.read_csv('tcd-ml-1920-group-income-train.csv')\n",
    "dataset_pred = pd.read_csv('tcd-ml-1920-group-income-test.csv')\n",
    "store_data = dataset_pred.filter(['Instance'], axis=1)\n",
    "dataset_test.columns = dataset_test.columns.str.strip().str.replace(' ', '_').str.replace('(', '').str.replace(')', '')\n",
    "dataset_pred.columns = dataset_pred.columns.str.strip().str.replace(' ', '_').str.replace('(', '').str.replace(')', '')\n",
    "\n",
    "dataset_test.rename(columns={'Work_Experience_in_Current_Job_[years]': 'Work_Experience_in_Current_Job'}, inplace=True)\n",
    "dataset_pred.rename(columns={'Work_Experience_in_Current_Job_[years]': 'Work_Experience_in_Current_Job'}, inplace=True)"
   ]
  },
  {
   "cell_type": "markdown",
   "metadata": {},
   "source": [
    "# Remove Instance Column"
   ]
  },
  {
   "cell_type": "code",
   "execution_count": 231,
   "metadata": {},
   "outputs": [],
   "source": [
    "dataset_test = dataset_test.drop('Instance', 1)\n",
    "dataset_pred = dataset_pred.drop('Instance', 1)\n",
    "dataset_test.drop(dataset_test.loc[dataset_test['Total_Yearly_Income_[EUR]']==2548791].index, inplace=True)"
   ]
  },
  {
   "cell_type": "markdown",
   "metadata": {},
   "source": [
    "# Change null to rand value between std dev around mean. Alternate could be panda interpolate\n"
   ]
  },
  {
   "cell_type": "code",
   "execution_count": 232,
   "metadata": {},
   "outputs": [
    {
     "name": "stderr",
     "output_type": "stream",
     "text": [
      "/home/james/miniconda3/lib/python3.7/site-packages/ipykernel_launcher.py:5: SettingWithCopyWarning: \n",
      "A value is trying to be set on a copy of a slice from a DataFrame\n",
      "\n",
      "See the caveats in the documentation: http://pandas.pydata.org/pandas-docs/stable/user_guide/indexing.html#returning-a-view-versus-a-copy\n",
      "  \"\"\"\n",
      "/home/james/miniconda3/lib/python3.7/site-packages/ipykernel_launcher.py:12: SettingWithCopyWarning: \n",
      "A value is trying to be set on a copy of a slice from a DataFrame\n",
      "\n",
      "See the caveats in the documentation: http://pandas.pydata.org/pandas-docs/stable/user_guide/indexing.html#returning-a-view-versus-a-copy\n",
      "  if sys.path[0] == '':\n"
     ]
    }
   ],
   "source": [
    "Column_Name_avg = dataset_test['Year_of_Record'].mean()\n",
    "Column_Name_std = dataset_test['Year_of_Record'].std()\n",
    "Column_Name_null_count = dataset_test['Year_of_Record'].isnull().sum()\n",
    "Column_Name_null_random_list = np.random.randint(Column_Name_avg - Column_Name_std, Column_Name_avg + Column_Name_std, size=Column_Name_null_count)\n",
    "dataset_test['Year_of_Record'][np.isnan(dataset_test['Year_of_Record'])] = Column_Name_null_random_list\n",
    "dataset_test['Year_of_Record'] = dataset_test['Year_of_Record'].astype(int)\n",
    "\n",
    "Column_Name_avg = dataset_pred['Year_of_Record'].mean()\n",
    "Column_Name_std = dataset_pred['Year_of_Record'].std()\n",
    "Column_Name_null_count = dataset_pred['Year_of_Record'].isnull().sum()\n",
    "Column_Name_null_random_list = np.random.randint(Column_Name_avg - Column_Name_std, Column_Name_avg + Column_Name_std, size=Column_Name_null_count)\n",
    "dataset_pred['Year_of_Record'][np.isnan(dataset_pred['Year_of_Record'])] = Column_Name_null_random_list\n",
    "dataset_pred['Year_of_Record'] = dataset_pred['Year_of_Record'].astype(int)"
   ]
  },
  {
   "cell_type": "markdown",
   "metadata": {},
   "source": [
    "# Filling Gender Nan and other values\n"
   ]
  },
  {
   "cell_type": "code",
   "execution_count": 233,
   "metadata": {},
   "outputs": [],
   "source": [
    "dataset_test.Gender = dataset_test.Gender.replace(\"f\", \"female\")\n",
    "dataset_test[\"Gender\"].fillna(\"unknown\", inplace = True)\n",
    "dataset_test.Gender = dataset_test.Gender.replace(\"0\", \"unknown\")\n",
    "\n",
    "dataset_pred.Gender = dataset_pred.Gender.replace(\"f\", \"female\")\n",
    "dataset_pred[\"Gender\"].fillna(\"unknown\", inplace = True)\n",
    "dataset_pred.Gender = dataset_pred.Gender.replace(\"0\", \"unknown\")"
   ]
  },
  {
   "cell_type": "markdown",
   "metadata": {},
   "source": [
    "# Filling University Degree Nan Values"
   ]
  },
  {
   "cell_type": "code",
   "execution_count": 234,
   "metadata": {},
   "outputs": [],
   "source": [
    "dataset_test.University_Degree = dataset_test.University_Degree.replace(\"0\", \"No\")\n",
    "dataset_test[\"University_Degree\"].fillna(\"No\", inplace = True)\n",
    "\n",
    "dataset_pred.University_Degree = dataset_pred.University_Degree.replace(\"0\", \"No\")\n",
    "dataset_pred[\"University_Degree\"].fillna(\"No\", inplace = True)"
   ]
  },
  {
   "cell_type": "markdown",
   "metadata": {},
   "source": [
    "# Filling Haircolor Nan Values"
   ]
  },
  {
   "cell_type": "code",
   "execution_count": 235,
   "metadata": {},
   "outputs": [],
   "source": [
    "dataset_test.Hair_Color = dataset_test.Hair_Color.replace(\"0\", \"Unknown\")\n",
    "dataset_test[\"Hair_Color\"].fillna(\"Unknown\", inplace = True)\n",
    "dataset_test = dataset_test.drop('Hair_Color', 1)\n",
    "\n",
    "dataset_pred.Hair_Color = dataset_pred.Hair_Color.replace(\"0\", \"Unknown\")\n",
    "dataset_pred[\"Hair_Color\"].fillna(\"Unknown\", inplace = True)\n",
    "dataset_pred = dataset_pred.drop('Hair_Color', 1)"
   ]
  },
  {
   "cell_type": "markdown",
   "metadata": {},
   "source": [
    "# Filling Profession Nan Values"
   ]
  },
  {
   "cell_type": "code",
   "execution_count": 236,
   "metadata": {},
   "outputs": [],
   "source": [
    "dataset_test[\"Profession\"].fillna(\"Unknown\", inplace = True)\n",
    "dataset_pred[\"Profession\"].fillna(\"Unknown\", inplace = True)"
   ]
  },
  {
   "cell_type": "markdown",
   "metadata": {},
   "source": [
    "# Filling Housing_Situation Corrupt Values"
   ]
  },
  {
   "cell_type": "code",
   "execution_count": 237,
   "metadata": {},
   "outputs": [],
   "source": [
    "dataset_test[\"Housing_Situation\"] = dataset_test[\"Housing_Situation\"].replace(0,'Unknown')\n",
    "dataset_test[\"Housing_Situation\"] = dataset_test[\"Housing_Situation\"].replace('0','Unknown')\n",
    "dataset_test[\"Housing_Situation\"] = dataset_test[\"Housing_Situation\"].replace('nA','Unknown')\n",
    "\n",
    "dataset_pred[\"Housing_Situation\"] = dataset_pred[\"Housing_Situation\"].replace(0,'Unknown')\n",
    "dataset_pred[\"Housing_Situation\"] = dataset_pred[\"Housing_Situation\"].replace('0','Unknown')\n",
    "dataset_pred[\"Housing_Situation\"] = dataset_pred[\"Housing_Situation\"].replace('nA','Unknown')\n",
    "\n",
    "\n",
    "dataset_test['Satisfation_with_employer'] = dataset_test['Satisfation_with_employer'].fillna(method='ffill')\n",
    "dataset_pred['Satisfation_with_employer'] = dataset_pred['Satisfation_with_employer'].fillna(method='ffill')"
   ]
  },
  {
   "cell_type": "markdown",
   "metadata": {},
   "source": [
    "# Convert work Experience in current job to float and replace #NUM! to mean of their Age"
   ]
  },
  {
   "cell_type": "code",
   "execution_count": 238,
   "metadata": {},
   "outputs": [
    {
     "name": "stderr",
     "output_type": "stream",
     "text": [
      "/home/james/miniconda3/lib/python3.7/site-packages/ipykernel_launcher.py:3: UserWarning: Pandas doesn't allow columns to be created via a new attribute name - see https://pandas.pydata.org/pandas-docs/stable/indexing.html#attribute-access\n",
      "  This is separate from the ipykernel package so we can avoid doing imports until\n",
      "/home/james/miniconda3/lib/python3.7/site-packages/ipykernel_launcher.py:8: UserWarning: Pandas doesn't allow columns to be created via a new attribute name - see https://pandas.pydata.org/pandas-docs/stable/indexing.html#attribute-access\n",
      "  \n"
     ]
    }
   ],
   "source": [
    "dataset_test.Work_Experience_in_Current_Job = dataset_test.Work_Experience_in_Current_Job.replace(\"#NUM!\", None)\n",
    "dataset_test['Work_Experience_in_Current_Job'] = dataset_test['Work_Experience_in_Current_Job'].astype(float)\n",
    "dataset_test.value = dataset_test.groupby('Age')['Work_Experience_in_Current_Job'].apply(lambda x: x.fillna(x.median()))\n",
    "dataset_test.value = dataset_test.Work_Experience_in_Current_Job.fillna(dataset_test.Work_Experience_in_Current_Job.median())\n",
    "\n",
    "dataset_pred.Work_Experience_in_Current_Job = dataset_pred.Work_Experience_in_Current_Job.replace(\"#NUM!\", None)\n",
    "dataset_pred['Work_Experience_in_Current_Job'] = dataset_pred['Work_Experience_in_Current_Job'].astype(float)\n",
    "dataset_pred.value = dataset_pred.groupby('Age')['Work_Experience_in_Current_Job'].apply(lambda x: x.fillna(x.median()))\n",
    "dataset_pred.value = dataset_pred.Work_Experience_in_Current_Job.fillna(dataset_pred.Work_Experience_in_Current_Job.median())"
   ]
  },
  {
   "cell_type": "markdown",
   "metadata": {},
   "source": [
    "# Remove EUR in Yearly_Income to make it numerical value "
   ]
  },
  {
   "cell_type": "code",
   "execution_count": 239,
   "metadata": {},
   "outputs": [],
   "source": [
    "dataset_test['Yearly_Income_in_addition_to_Salary_e.g._Rental_Income'] = dataset_test['Yearly_Income_in_addition_to_Salary_e.g._Rental_Income'].replace('EUR', '', regex=True).astype(float)\n",
    "dataset_pred['Yearly_Income_in_addition_to_Salary_e.g._Rental_Income'] = dataset_pred['Yearly_Income_in_addition_to_Salary_e.g._Rental_Income'].replace('EUR', '', regex=True).astype(float)"
   ]
  },
  {
   "cell_type": "markdown",
   "metadata": {},
   "source": [
    "# Label encoding the categorical columns"
   ]
  },
  {
   "cell_type": "code",
   "execution_count": 240,
   "metadata": {},
   "outputs": [],
   "source": [
    "for col in dataset_test.dtypes[dataset_test.dtypes == 'object'].index.tolist():\n",
    "    feat_le = LabelEncoder()\n",
    "    train_list = dataset_test[col].unique()\n",
    "    dataset_test.loc[1201,col] = 'other'\n",
    "    test_list = dataset_pred[col].unique()\n",
    "    test_replace = list(set(test_list) - set(train_list))\n",
    "    dataset_pred[col] = dataset_pred[col].replace(test_replace, 'other')\n",
    "    feat_le.fit(dataset_test[col].unique().astype(str))\n",
    "    dataset_test[col] = feat_le.transform(dataset_test[col].astype(str))\n",
    "    dataset_pred[col] = feat_le.transform(dataset_pred[col].astype(str))\n",
    "\n"
   ]
  },
  {
   "cell_type": "markdown",
   "metadata": {},
   "source": [
    "### This function takes a string column name and returns a list\n",
    "### containing indices of dataframe that have outliers in that column\n",
    "### Refer: https://towardsdatascience.com/5-ways-to-detect-outliers-that-every-data-scientist-should-know-python-code-70a54335a623\n"
   ]
  },
  {
   "cell_type": "code",
   "execution_count": 241,
   "metadata": {},
   "outputs": [],
   "source": [
    "def OutlierByColumn(colname):\n",
    "    rows = dataset_test.shape[0]\n",
    "    col_std = np.std(dataset_test[colname])\n",
    "    col_mean = np.mean(dataset_test[colname])\n",
    "    anomaly_cut_off = col_std * 3\n",
    "    lower_limit  = col_mean - anomaly_cut_off \n",
    "    upper_limit = col_mean + anomaly_cut_off\n",
    "    anomalies_indices = []\n",
    "    for i in range(rows):\n",
    "        ele = dataset_test[colname][i]\n",
    "        if ele > upper_limit or ele < lower_limit:\n",
    "            anomalies_indices.append(i)\n",
    "    return anomalies_indices"
   ]
  },
  {
   "cell_type": "markdown",
   "metadata": {},
   "source": [
    "# Running outlier"
   ]
  },
  {
   "cell_type": "code",
   "execution_count": 242,
   "metadata": {},
   "outputs": [],
   "source": [
    "arr1 = OutlierByColumn('Work_Experience_in_Current_Job')\n",
    "arr2 = OutlierByColumn('Age')\n",
    "arr3 = OutlierByColumn('Body_Height_[cm]')\n",
    "arr4 = OutlierByColumn('Yearly_Income_in_addition_to_Salary_e.g._Rental_Income')\n",
    "arr5 = OutlierByColumn('Size_of_City')"
   ]
  },
  {
   "cell_type": "code",
   "execution_count": 243,
   "metadata": {},
   "outputs": [],
   "source": [
    "#Union of all lists \n",
    "union_index = np.union1d(arr1,arr2)\n",
    "union_index = np.union1d(union_index,arr3)\n",
    "union_index = np.union1d(union_index,arr4)\n",
    "union_index = np.union1d(union_index,arr5)\n",
    "len(union_index)\n",
    "dataset_test = dataset_test.drop(union_index)"
   ]
  },
  {
   "cell_type": "markdown",
   "metadata": {},
   "source": [
    "# Normalise columns"
   ]
  },
  {
   "cell_type": "code",
   "execution_count": 244,
   "metadata": {},
   "outputs": [],
   "source": [
    "dataset_test = dataset_test.sample(frac=1).reset_index(drop=True)\n",
    "\n",
    "y = dataset_test['Total_Yearly_Income_[EUR]'].values\n",
    "dataset_test.drop('Total_Yearly_Income_[EUR]', axis=1, inplace=True)\n"
   ]
  },
  {
   "cell_type": "code",
   "execution_count": 245,
   "metadata": {},
   "outputs": [],
   "source": [
    "\n",
    "x = dataset_test.values #returns a numpy array\n",
    "min_max_scaler = preprocessing.MinMaxScaler()\n",
    "x_scaled = min_max_scaler.fit_transform(x)\n",
    "dataset_test = pd.DataFrame(x_scaled)\n",
    "X = dataset_test[dataset_test.columns].values"
   ]
  },
  {
   "cell_type": "markdown",
   "metadata": {},
   "source": [
    "# View Data"
   ]
  },
  {
   "cell_type": "code",
   "execution_count": 246,
   "metadata": {
    "scrolled": true
   },
   "outputs": [
    {
     "data": {
      "text/html": [
       "<div>\n",
       "<style scoped>\n",
       "    .dataframe tbody tr th:only-of-type {\n",
       "        vertical-align: middle;\n",
       "    }\n",
       "\n",
       "    .dataframe tbody tr th {\n",
       "        vertical-align: top;\n",
       "    }\n",
       "\n",
       "    .dataframe thead th {\n",
       "        text-align: right;\n",
       "    }\n",
       "</style>\n",
       "<table border=\"1\" class=\"dataframe\">\n",
       "  <thead>\n",
       "    <tr style=\"text-align: right;\">\n",
       "      <th></th>\n",
       "      <th>0</th>\n",
       "      <th>1</th>\n",
       "      <th>2</th>\n",
       "      <th>3</th>\n",
       "      <th>4</th>\n",
       "      <th>5</th>\n",
       "      <th>6</th>\n",
       "      <th>7</th>\n",
       "      <th>8</th>\n",
       "      <th>9</th>\n",
       "      <th>10</th>\n",
       "      <th>11</th>\n",
       "      <th>12</th>\n",
       "      <th>13</th>\n",
       "    </tr>\n",
       "  </thead>\n",
       "  <tbody>\n",
       "    <tr>\n",
       "      <td>0</td>\n",
       "      <td>0.506329</td>\n",
       "      <td>0.250</td>\n",
       "      <td>0.802083</td>\n",
       "      <td>0.46875</td>\n",
       "      <td>0.50</td>\n",
       "      <td>0.000000</td>\n",
       "      <td>0.295775</td>\n",
       "      <td>0.390805</td>\n",
       "      <td>0.561241</td>\n",
       "      <td>0.594834</td>\n",
       "      <td>0.00</td>\n",
       "      <td>1.0</td>\n",
       "      <td>0.372881</td>\n",
       "      <td>0.254034</td>\n",
       "    </tr>\n",
       "    <tr>\n",
       "      <td>1</td>\n",
       "      <td>0.898734</td>\n",
       "      <td>0.125</td>\n",
       "      <td>0.088542</td>\n",
       "      <td>0.62500</td>\n",
       "      <td>0.00</td>\n",
       "      <td>0.666667</td>\n",
       "      <td>0.478873</td>\n",
       "      <td>0.051724</td>\n",
       "      <td>0.076901</td>\n",
       "      <td>0.701845</td>\n",
       "      <td>0.00</td>\n",
       "      <td>1.0</td>\n",
       "      <td>0.677966</td>\n",
       "      <td>0.000000</td>\n",
       "    </tr>\n",
       "    <tr>\n",
       "      <td>2</td>\n",
       "      <td>0.050633</td>\n",
       "      <td>0.875</td>\n",
       "      <td>0.369792</td>\n",
       "      <td>0.59375</td>\n",
       "      <td>0.00</td>\n",
       "      <td>0.666667</td>\n",
       "      <td>0.422535</td>\n",
       "      <td>0.488506</td>\n",
       "      <td>0.187905</td>\n",
       "      <td>0.727675</td>\n",
       "      <td>0.25</td>\n",
       "      <td>0.0</td>\n",
       "      <td>0.440678</td>\n",
       "      <td>0.000000</td>\n",
       "    </tr>\n",
       "    <tr>\n",
       "      <td>3</td>\n",
       "      <td>0.721519</td>\n",
       "      <td>0.750</td>\n",
       "      <td>0.895833</td>\n",
       "      <td>0.68750</td>\n",
       "      <td>0.00</td>\n",
       "      <td>0.333333</td>\n",
       "      <td>0.549296</td>\n",
       "      <td>0.390805</td>\n",
       "      <td>0.267165</td>\n",
       "      <td>0.847970</td>\n",
       "      <td>0.00</td>\n",
       "      <td>1.0</td>\n",
       "      <td>0.288136</td>\n",
       "      <td>0.000000</td>\n",
       "    </tr>\n",
       "    <tr>\n",
       "      <td>4</td>\n",
       "      <td>0.506329</td>\n",
       "      <td>0.500</td>\n",
       "      <td>0.494792</td>\n",
       "      <td>0.71875</td>\n",
       "      <td>0.25</td>\n",
       "      <td>0.333333</td>\n",
       "      <td>0.661972</td>\n",
       "      <td>0.270115</td>\n",
       "      <td>0.058381</td>\n",
       "      <td>0.596310</td>\n",
       "      <td>0.50</td>\n",
       "      <td>0.0</td>\n",
       "      <td>0.500000</td>\n",
       "      <td>0.000000</td>\n",
       "    </tr>\n",
       "  </tbody>\n",
       "</table>\n",
       "</div>"
      ],
      "text/plain": [
       "          0      1         2        3     4         5         6         7  \\\n",
       "0  0.506329  0.250  0.802083  0.46875  0.50  0.000000  0.295775  0.390805   \n",
       "1  0.898734  0.125  0.088542  0.62500  0.00  0.666667  0.478873  0.051724   \n",
       "2  0.050633  0.875  0.369792  0.59375  0.00  0.666667  0.422535  0.488506   \n",
       "3  0.721519  0.750  0.895833  0.68750  0.00  0.333333  0.549296  0.390805   \n",
       "4  0.506329  0.500  0.494792  0.71875  0.25  0.333333  0.661972  0.270115   \n",
       "\n",
       "          8         9    10   11        12        13  \n",
       "0  0.561241  0.594834  0.00  1.0  0.372881  0.254034  \n",
       "1  0.076901  0.701845  0.00  1.0  0.677966  0.000000  \n",
       "2  0.187905  0.727675  0.25  0.0  0.440678  0.000000  \n",
       "3  0.267165  0.847970  0.00  1.0  0.288136  0.000000  \n",
       "4  0.058381  0.596310  0.50  0.0  0.500000  0.000000  "
      ]
     },
     "execution_count": 246,
     "metadata": {},
     "output_type": "execute_result"
    }
   ],
   "source": [
    "dataset_test.head(5)"
   ]
  },
  {
   "cell_type": "code",
   "execution_count": 247,
   "metadata": {},
   "outputs": [
    {
     "data": {
      "text/plain": [
       "array([ 36387.11, 124103.01,   2421.29, ...,    823.84,   2709.58,\n",
       "       192709.31])"
      ]
     },
     "execution_count": 247,
     "metadata": {},
     "output_type": "execute_result"
    }
   ],
   "source": [
    "y.view()"
   ]
  },
  {
   "cell_type": "code",
   "execution_count": 248,
   "metadata": {},
   "outputs": [],
   "source": [
    "\n",
    "X = dataset_test[dataset_test.columns].values"
   ]
  },
  {
   "cell_type": "code",
   "execution_count": 249,
   "metadata": {},
   "outputs": [
    {
     "name": "stdout",
     "output_type": "stream",
     "text": [
      "(995179,)\n",
      "(995179, 14)\n"
     ]
    }
   ],
   "source": [
    "print(y.shape)\n",
    "print(X.shape)"
   ]
  },
  {
   "cell_type": "code",
   "execution_count": 250,
   "metadata": {},
   "outputs": [],
   "source": [
    "#split 80% of the data to the training set while 20% of the data to test set.\n",
    "#X_train, X_test, y_train, y_test = train_test_split(X, y, test_size=0.2, random_state=0)\n",
    "X_train, X_test, Y_train, Y_test = train_test_split(X, y, test_size=0.1)"
   ]
  },
  {
   "cell_type": "code",
   "execution_count": 251,
   "metadata": {},
   "outputs": [
    {
     "name": "stdout",
     "output_type": "stream",
     "text": [
      "(895661, 14) (99518, 14)\n",
      "(895661,) (99518,)\n"
     ]
    }
   ],
   "source": [
    "print(X_train.shape, X_test.shape)\n",
    "print(Y_train.shape, Y_test.shape)"
   ]
  },
  {
   "cell_type": "code",
   "execution_count": 252,
   "metadata": {},
   "outputs": [],
   "source": [
    "dataset_pred.drop('Total_Yearly_Income_[EUR]', axis=1, inplace=True)\n",
    "\n",
    "x = dataset_pred.values #returns a numpy array\n",
    "x_scaled = min_max_scaler.transform(x)\n",
    "dataset_pred = pd.DataFrame(x_scaled)\n",
    "\n",
    "X_pred = dataset_pred[dataset_pred.columns].values"
   ]
  },
  {
   "cell_type": "markdown",
   "metadata": {},
   "source": [
    "# KERAS Model"
   ]
  },
  {
   "cell_type": "code",
   "execution_count": 278,
   "metadata": {},
   "outputs": [],
   "source": [
    "from keras.models import Sequential\n",
    "from keras.layers import Dense\n",
    "from keras import optimizers\n",
    "from keras.layers import Dropout\n",
    "from keras import losses\n",
    "from keras.layers.convolutional import Conv1D\n",
    "from keras.layers import Input, Flatten\n",
    "from keras.callbacks import ModelCheckpoint\n",
    "from keras.models import load_model"
   ]
  },
  {
   "cell_type": "code",
   "execution_count": 279,
   "metadata": {},
   "outputs": [],
   "source": [
    "sgd = optimizers.SGD(lr=0.01, momentum=0.9, nesterov=True)\n",
    "losses = losses.mean_absolute_percentage_error"
   ]
  },
  {
   "cell_type": "code",
   "execution_count": null,
   "metadata": {},
   "outputs": [],
   "source": []
  },
  {
   "cell_type": "code",
   "execution_count": 280,
   "metadata": {},
   "outputs": [],
   "source": [
    "model = Sequential()\n",
    "model.add(Dense(1024,kernel_initializer='RandomUniform', input_dim=14, activation= \"relu\"))\n",
    "model.add(Dropout(0.2))\n",
    "model.add(Dense(512,kernel_initializer='normal', activation= \"relu\"))\n",
    "model.add(Dropout(0.2))\n",
    "model.add(Dense(1))"
   ]
  },
  {
   "cell_type": "code",
   "execution_count": 281,
   "metadata": {},
   "outputs": [],
   "source": [
    "model.compile(loss= losses , optimizer=sgd, metrics=[\"mean_absolute_error\"])"
   ]
  },
  {
   "cell_type": "code",
   "execution_count": 282,
   "metadata": {},
   "outputs": [
    {
     "name": "stdout",
     "output_type": "stream",
     "text": [
      "_________________________________________________________________\n",
      "Layer (type)                 Output Shape              Param #   \n",
      "=================================================================\n",
      "dense_64 (Dense)             (None, 1024)              15360     \n",
      "_________________________________________________________________\n",
      "dropout_40 (Dropout)         (None, 1024)              0         \n",
      "_________________________________________________________________\n",
      "dense_65 (Dense)             (None, 512)               524800    \n",
      "_________________________________________________________________\n",
      "dropout_41 (Dropout)         (None, 512)               0         \n",
      "_________________________________________________________________\n",
      "dense_66 (Dense)             (None, 1)                 513       \n",
      "=================================================================\n",
      "Total params: 540,673\n",
      "Trainable params: 540,673\n",
      "Non-trainable params: 0\n",
      "_________________________________________________________________\n"
     ]
    }
   ],
   "source": [
    "model.build()\n",
    "model.summary()"
   ]
  },
  {
   "cell_type": "code",
   "execution_count": 283,
   "metadata": {},
   "outputs": [],
   "source": [
    "filepath=\"weights-improvement-{epoch:02d}-{val_loss:.2f}.hdf5\"\n",
    "checkpoint = ModelCheckpoint(filepath, monitor='val_loss', verbose=1, save_best_only=True, mode='min')\n",
    "callbacks_list = [checkpoint]"
   ]
  },
  {
   "cell_type": "code",
   "execution_count": 290,
   "metadata": {},
   "outputs": [
    {
     "name": "stdout",
     "output_type": "stream",
     "text": [
      "Train on 716528 samples, validate on 179133 samples\n",
      "Epoch 1/50\n",
      "716528/716528 [==============================] - 10s 14us/step - loss: 28.6627 - mean_absolute_error: 22921.0227 - val_loss: 27.3157 - val_mean_absolute_error: 22579.3932\n",
      "\n",
      "Epoch 00001: val_loss did not improve from 27.27337\n",
      "Epoch 2/50\n",
      "716528/716528 [==============================] - 10s 14us/step - loss: 28.6492 - mean_absolute_error: 22902.9688 - val_loss: 27.3286 - val_mean_absolute_error: 22310.9995\n",
      "\n",
      "Epoch 00002: val_loss did not improve from 27.27337\n",
      "Epoch 3/50\n",
      "716528/716528 [==============================] - 10s 14us/step - loss: 28.5622 - mean_absolute_error: 22867.3176 - val_loss: 27.2038 - val_mean_absolute_error: 22634.7244\n",
      "\n",
      "Epoch 00003: val_loss improved from 27.27337 to 27.20384, saving model to weights-improvement-03-27.20.hdf5\n",
      "Epoch 4/50\n",
      "716528/716528 [==============================] - 10s 14us/step - loss: 28.5045 - mean_absolute_error: 22819.0516 - val_loss: 27.2892 - val_mean_absolute_error: 22735.1337\n",
      "\n",
      "Epoch 00004: val_loss did not improve from 27.20384\n",
      "Epoch 5/50\n",
      "716528/716528 [==============================] - 10s 14us/step - loss: 28.4744 - mean_absolute_error: 22787.5281 - val_loss: 27.1369 - val_mean_absolute_error: 22311.7426\n",
      "\n",
      "Epoch 00005: val_loss improved from 27.20384 to 27.13695, saving model to weights-improvement-05-27.14.hdf5\n",
      "Epoch 6/50\n",
      "716528/716528 [==============================] - 10s 14us/step - loss: 28.4251 - mean_absolute_error: 22761.9970 - val_loss: 27.1175 - val_mean_absolute_error: 22401.1426\n",
      "\n",
      "Epoch 00006: val_loss improved from 27.13695 to 27.11752, saving model to weights-improvement-06-27.12.hdf5\n",
      "Epoch 7/50\n",
      "716528/716528 [==============================] - 10s 14us/step - loss: 28.3889 - mean_absolute_error: 22730.7837 - val_loss: 26.9863 - val_mean_absolute_error: 22360.2041\n",
      "\n",
      "Epoch 00007: val_loss improved from 27.11752 to 26.98628, saving model to weights-improvement-07-26.99.hdf5\n",
      "Epoch 8/50\n",
      "716528/716528 [==============================] - 10s 14us/step - loss: 28.3208 - mean_absolute_error: 22706.1756 - val_loss: 26.9780 - val_mean_absolute_error: 22378.6777\n",
      "\n",
      "Epoch 00008: val_loss improved from 26.98628 to 26.97798, saving model to weights-improvement-08-26.98.hdf5\n",
      "Epoch 9/50\n",
      "716528/716528 [==============================] - 10s 14us/step - loss: 28.2717 - mean_absolute_error: 22653.4936 - val_loss: 26.8976 - val_mean_absolute_error: 22136.9414\n",
      "\n",
      "Epoch 00009: val_loss improved from 26.97798 to 26.89761, saving model to weights-improvement-09-26.90.hdf5\n",
      "Epoch 10/50\n",
      "716528/716528 [==============================] - 10s 13us/step - loss: 28.2250 - mean_absolute_error: 22645.6339 - val_loss: 26.8399 - val_mean_absolute_error: 22076.0021\n",
      "\n",
      "Epoch 00010: val_loss improved from 26.89761 to 26.83990, saving model to weights-improvement-10-26.84.hdf5\n",
      "Epoch 11/50\n",
      "716528/716528 [==============================] - 10s 13us/step - loss: 29.2891 - mean_absolute_error: 22809.0094 - val_loss: 27.2011 - val_mean_absolute_error: 22479.1520\n",
      "\n",
      "Epoch 00011: val_loss did not improve from 26.83990\n",
      "Epoch 12/50\n",
      "716528/716528 [==============================] - 10s 14us/step - loss: 28.4289 - mean_absolute_error: 22676.2349 - val_loss: 27.0900 - val_mean_absolute_error: 22557.9814\n",
      "\n",
      "Epoch 00012: val_loss did not improve from 26.83990\n",
      "Epoch 13/50\n",
      "716528/716528 [==============================] - 21s 29us/step - loss: 28.2585 - mean_absolute_error: 22588.0786 - val_loss: 26.7192 - val_mean_absolute_error: 22290.8848\n",
      "\n",
      "Epoch 00013: val_loss improved from 26.83990 to 26.71924, saving model to weights-improvement-13-26.72.hdf5\n",
      "Epoch 14/50\n",
      "716528/716528 [==============================] - 11s 15us/step - loss: 28.1726 - mean_absolute_error: 22571.6003 - val_loss: 26.9817 - val_mean_absolute_error: 22538.7938\n",
      "\n",
      "Epoch 00014: val_loss did not improve from 26.71924\n",
      "Epoch 15/50\n",
      "716528/716528 [==============================] - 7s 10us/step - loss: 28.1566 - mean_absolute_error: 22538.9950 - val_loss: 27.0423 - val_mean_absolute_error: 22250.7745\n",
      "\n",
      "Epoch 00015: val_loss did not improve from 26.71924\n",
      "Epoch 16/50\n",
      "716528/716528 [==============================] - 7s 10us/step - loss: 28.0892 - mean_absolute_error: 22512.3432 - val_loss: 26.7974 - val_mean_absolute_error: 22625.5729\n",
      "\n",
      "Epoch 00016: val_loss did not improve from 26.71924\n",
      "Epoch 17/50\n",
      "716528/716528 [==============================] - 12s 17us/step - loss: 27.9957 - mean_absolute_error: 22465.7381 - val_loss: 26.6156 - val_mean_absolute_error: 22231.2495\n",
      "\n",
      "Epoch 00017: val_loss improved from 26.71924 to 26.61559, saving model to weights-improvement-17-26.62.hdf5\n",
      "Epoch 18/50\n",
      "716528/716528 [==============================] - 34s 47us/step - loss: 27.9958 - mean_absolute_error: 22459.7783 - val_loss: 26.8944 - val_mean_absolute_error: 22281.7119\n",
      "\n",
      "Epoch 00018: val_loss did not improve from 26.61559\n",
      "Epoch 19/50\n",
      "716528/716528 [==============================] - 47s 65us/step - loss: 27.9276 - mean_absolute_error: 22433.1019 - val_loss: 26.5293 - val_mean_absolute_error: 21963.9455\n",
      "\n",
      "Epoch 00019: val_loss improved from 26.61559 to 26.52931, saving model to weights-improvement-19-26.53.hdf5\n",
      "Epoch 20/50\n",
      "716528/716528 [==============================] - 7s 9us/step - loss: 27.9174 - mean_absolute_error: 22388.6216 - val_loss: 26.5586 - val_mean_absolute_error: 22287.4939\n",
      "\n",
      "Epoch 00020: val_loss did not improve from 26.52931\n",
      "Epoch 21/50\n",
      "716528/716528 [==============================] - 7s 9us/step - loss: 27.9803 - mean_absolute_error: 22362.9423 - val_loss: 26.5267 - val_mean_absolute_error: 22283.3258\n",
      "\n",
      "Epoch 00021: val_loss improved from 26.52931 to 26.52668, saving model to weights-improvement-21-26.53.hdf5\n",
      "Epoch 22/50\n",
      "716528/716528 [==============================] - 7s 9us/step - loss: 27.9056 - mean_absolute_error: 22369.1714 - val_loss: 26.4083 - val_mean_absolute_error: 21794.5553\n",
      "\n",
      "Epoch 00022: val_loss improved from 26.52668 to 26.40835, saving model to weights-improvement-22-26.41.hdf5\n",
      "Epoch 23/50\n",
      "716528/716528 [==============================] - 7s 9us/step - loss: 27.8117 - mean_absolute_error: 22310.3309 - val_loss: 26.4328 - val_mean_absolute_error: 22074.0147\n",
      "\n",
      "Epoch 00023: val_loss did not improve from 26.40835\n",
      "Epoch 24/50\n",
      "716528/716528 [==============================] - 7s 9us/step - loss: 27.8090 - mean_absolute_error: 22301.4361 - val_loss: 26.3774 - val_mean_absolute_error: 21861.6230\n",
      "\n",
      "Epoch 00024: val_loss improved from 26.40835 to 26.37745, saving model to weights-improvement-24-26.38.hdf5\n",
      "Epoch 25/50\n",
      "716528/716528 [==============================] - 7s 9us/step - loss: 27.7374 - mean_absolute_error: 22272.9960 - val_loss: 26.3281 - val_mean_absolute_error: 22055.5532\n",
      "\n",
      "Epoch 00025: val_loss improved from 26.37745 to 26.32815, saving model to weights-improvement-25-26.33.hdf5\n",
      "Epoch 26/50\n",
      "716528/716528 [==============================] - 7s 9us/step - loss: 27.6747 - mean_absolute_error: 22238.5419 - val_loss: 27.2163 - val_mean_absolute_error: 22112.9649\n",
      "\n",
      "Epoch 00026: val_loss did not improve from 26.32815\n",
      "Epoch 27/50\n",
      "716528/716528 [==============================] - 7s 9us/step - loss: 27.6430 - mean_absolute_error: 22230.1717 - val_loss: 26.3992 - val_mean_absolute_error: 22128.6843\n",
      "\n",
      "Epoch 00027: val_loss did not improve from 26.32815\n",
      "Epoch 28/50\n",
      "716528/716528 [==============================] - 7s 9us/step - loss: 27.6424 - mean_absolute_error: 22198.7477 - val_loss: 26.2333 - val_mean_absolute_error: 22006.4902\n",
      "\n",
      "Epoch 00028: val_loss improved from 26.32815 to 26.23327, saving model to weights-improvement-28-26.23.hdf5\n",
      "Epoch 29/50\n",
      "716528/716528 [==============================] - 6s 9us/step - loss: 27.5543 - mean_absolute_error: 22136.1035 - val_loss: 26.5841 - val_mean_absolute_error: 22061.2167\n",
      "\n",
      "Epoch 00029: val_loss did not improve from 26.23327\n",
      "Epoch 30/50\n",
      "716528/716528 [==============================] - 6s 9us/step - loss: 27.5462 - mean_absolute_error: 22149.1664 - val_loss: 26.0510 - val_mean_absolute_error: 21634.4049\n",
      "\n",
      "Epoch 00030: val_loss improved from 26.23327 to 26.05104, saving model to weights-improvement-30-26.05.hdf5\n",
      "Epoch 31/50\n",
      "716528/716528 [==============================] - 6s 9us/step - loss: 27.4754 - mean_absolute_error: 22107.7267 - val_loss: 26.0164 - val_mean_absolute_error: 21507.1965\n",
      "\n",
      "Epoch 00031: val_loss improved from 26.05104 to 26.01642, saving model to weights-improvement-31-26.02.hdf5\n",
      "Epoch 32/50\n"
     ]
    },
    {
     "name": "stdout",
     "output_type": "stream",
     "text": [
      "716528/716528 [==============================] - 7s 9us/step - loss: 27.4907 - mean_absolute_error: 22074.2993 - val_loss: 26.0804 - val_mean_absolute_error: 21731.2735\n",
      "\n",
      "Epoch 00032: val_loss did not improve from 26.01642\n",
      "Epoch 33/50\n",
      "716528/716528 [==============================] - 7s 9us/step - loss: 27.4603 - mean_absolute_error: 22081.8462 - val_loss: 26.0243 - val_mean_absolute_error: 21431.7235\n",
      "\n",
      "Epoch 00033: val_loss did not improve from 26.01642\n",
      "Epoch 34/50\n",
      "716528/716528 [==============================] - 7s 9us/step - loss: 27.3684 - mean_absolute_error: 22049.9487 - val_loss: 25.9118 - val_mean_absolute_error: 21592.4147\n",
      "\n",
      "Epoch 00034: val_loss improved from 26.01642 to 25.91180, saving model to weights-improvement-34-25.91.hdf5\n",
      "Epoch 35/50\n",
      "716528/716528 [==============================] - 7s 9us/step - loss: 27.3223 - mean_absolute_error: 22002.3056 - val_loss: 25.9034 - val_mean_absolute_error: 21462.3933\n",
      "\n",
      "Epoch 00035: val_loss improved from 25.91180 to 25.90343, saving model to weights-improvement-35-25.90.hdf5\n",
      "Epoch 36/50\n",
      "716528/716528 [==============================] - 7s 9us/step - loss: 27.3076 - mean_absolute_error: 21978.3542 - val_loss: 25.8725 - val_mean_absolute_error: 21753.4271\n",
      "\n",
      "Epoch 00036: val_loss improved from 25.90343 to 25.87248, saving model to weights-improvement-36-25.87.hdf5\n",
      "Epoch 37/50\n",
      "716528/716528 [==============================] - 7s 9us/step - loss: 27.3148 - mean_absolute_error: 21957.1179 - val_loss: 25.8396 - val_mean_absolute_error: 21411.1926\n",
      "\n",
      "Epoch 00037: val_loss improved from 25.87248 to 25.83958, saving model to weights-improvement-37-25.84.hdf5\n",
      "Epoch 38/50\n",
      "716528/716528 [==============================] - 7s 9us/step - loss: 27.2802 - mean_absolute_error: 21947.2663 - val_loss: 25.8160 - val_mean_absolute_error: 21750.5566\n",
      "\n",
      "Epoch 00038: val_loss improved from 25.83958 to 25.81603, saving model to weights-improvement-38-25.82.hdf5\n",
      "Epoch 39/50\n",
      "716528/716528 [==============================] - 7s 9us/step - loss: 27.2281 - mean_absolute_error: 21935.6056 - val_loss: 25.7362 - val_mean_absolute_error: 21639.3647\n",
      "\n",
      "Epoch 00039: val_loss improved from 25.81603 to 25.73616, saving model to weights-improvement-39-25.74.hdf5\n",
      "Epoch 40/50\n",
      "716528/716528 [==============================] - 7s 9us/step - loss: 27.2486 - mean_absolute_error: 21903.3637 - val_loss: 25.7292 - val_mean_absolute_error: 21523.6938\n",
      "\n",
      "Epoch 00040: val_loss improved from 25.73616 to 25.72920, saving model to weights-improvement-40-25.73.hdf5\n",
      "Epoch 41/50\n",
      "716528/716528 [==============================] - 7s 9us/step - loss: 27.2070 - mean_absolute_error: 21882.6890 - val_loss: 25.7283 - val_mean_absolute_error: 21599.4001\n",
      "\n",
      "Epoch 00041: val_loss improved from 25.72920 to 25.72830, saving model to weights-improvement-41-25.73.hdf5\n",
      "Epoch 42/50\n",
      "716528/716528 [==============================] - 7s 9us/step - loss: 27.0801 - mean_absolute_error: 21826.8495 - val_loss: 25.7106 - val_mean_absolute_error: 21577.2841\n",
      "\n",
      "Epoch 00042: val_loss improved from 25.72830 to 25.71064, saving model to weights-improvement-42-25.71.hdf5\n",
      "Epoch 43/50\n",
      "716528/716528 [==============================] - 7s 9us/step - loss: 27.0621 - mean_absolute_error: 21837.0526 - val_loss: 25.6008 - val_mean_absolute_error: 21231.0325\n",
      "\n",
      "Epoch 00043: val_loss improved from 25.71064 to 25.60081, saving model to weights-improvement-43-25.60.hdf5\n",
      "Epoch 44/50\n",
      "716528/716528 [==============================] - 7s 9us/step - loss: 27.0318 - mean_absolute_error: 21807.8051 - val_loss: 25.6207 - val_mean_absolute_error: 21530.1602\n",
      "\n",
      "Epoch 00044: val_loss did not improve from 25.60081\n",
      "Epoch 45/50\n",
      "716528/716528 [==============================] - 6s 9us/step - loss: 27.0100 - mean_absolute_error: 21790.6595 - val_loss: 25.6856 - val_mean_absolute_error: 21606.6475\n",
      "\n",
      "Epoch 00045: val_loss did not improve from 25.60081\n",
      "Epoch 46/50\n",
      "716528/716528 [==============================] - 7s 9us/step - loss: 26.9781 - mean_absolute_error: 21756.0275 - val_loss: 25.5226 - val_mean_absolute_error: 21775.0196\n",
      "\n",
      "Epoch 00046: val_loss improved from 25.60081 to 25.52257, saving model to weights-improvement-46-25.52.hdf5\n",
      "Epoch 47/50\n",
      "716528/716528 [==============================] - 7s 9us/step - loss: 26.9766 - mean_absolute_error: 21753.1949 - val_loss: 25.5332 - val_mean_absolute_error: 21357.1200\n",
      "\n",
      "Epoch 00047: val_loss did not improve from 25.52257\n",
      "Epoch 48/50\n",
      "716528/716528 [==============================] - 7s 10us/step - loss: 26.8836 - mean_absolute_error: 21710.8634 - val_loss: 25.5037 - val_mean_absolute_error: 21335.1708\n",
      "\n",
      "Epoch 00048: val_loss improved from 25.52257 to 25.50368, saving model to weights-improvement-48-25.50.hdf5\n",
      "Epoch 49/50\n",
      "716528/716528 [==============================] - 7s 9us/step - loss: 26.9614 - mean_absolute_error: 21703.3046 - val_loss: 25.4508 - val_mean_absolute_error: 21288.4772\n",
      "\n",
      "Epoch 00049: val_loss improved from 25.50368 to 25.45076, saving model to weights-improvement-49-25.45.hdf5\n",
      "Epoch 50/50\n",
      "716528/716528 [==============================] - 7s 10us/step - loss: 26.8524 - mean_absolute_error: 21655.1952 - val_loss: 25.6734 - val_mean_absolute_error: 21516.4939\n",
      "\n",
      "Epoch 00050: val_loss did not improve from 25.45076\n"
     ]
    }
   ],
   "source": [
    "hist = model.fit(X_train, Y_train,\n",
    "          batch_size=1024, epochs=50,\n",
    "          validation_split=0.2,shuffle=True,callbacks=callbacks_list)"
   ]
  },
  {
   "cell_type": "code",
   "execution_count": 291,
   "metadata": {},
   "outputs": [
    {
     "name": "stdout",
     "output_type": "stream",
     "text": [
      "99518/99518 [==============================] - 6s 63us/step\n"
     ]
    },
    {
     "data": {
      "text/plain": [
       "21589.146241465896"
      ]
     },
     "execution_count": 291,
     "metadata": {},
     "output_type": "execute_result"
    }
   ],
   "source": [
    "model.evaluate(X_test, Y_test)[1]"
   ]
  },
  {
   "cell_type": "code",
   "execution_count": 216,
   "metadata": {},
   "outputs": [],
   "source": [
    "model2 = load_model('/home/james/Documents/MachineLearning/ML-GroupAssignment/weights-improvement-188-23.06.hdf5')"
   ]
  },
  {
   "cell_type": "code",
   "execution_count": null,
   "metadata": {},
   "outputs": [],
   "source": []
  },
  {
   "cell_type": "code",
   "execution_count": 217,
   "metadata": {},
   "outputs": [
    {
     "name": "stdout",
     "output_type": "stream",
     "text": [
      "Train on 807659 samples, validate on 89740 samples\n",
      "Epoch 1/50\n",
      "807659/807659 [==============================] - 3s 4us/step - loss: 26.0402 - mean_absolute_error: 19042.0743 - val_loss: 23.2465 - val_mean_absolute_error: 18200.0379\n",
      "\n",
      "Epoch 00001: val_loss did not improve from 22.37025\n",
      "Epoch 2/50\n",
      "807659/807659 [==============================] - 2s 3us/step - loss: 25.7174 - mean_absolute_error: 18944.0640 - val_loss: 23.7485 - val_mean_absolute_error: 18533.6965\n",
      "\n",
      "Epoch 00002: val_loss did not improve from 22.37025\n",
      "Epoch 3/50\n",
      "807659/807659 [==============================] - 2s 3us/step - loss: 25.6983 - mean_absolute_error: 18947.1850 - val_loss: 23.7833 - val_mean_absolute_error: 18539.0371\n",
      "\n",
      "Epoch 00003: val_loss did not improve from 22.37025\n",
      "Epoch 4/50\n",
      "807659/807659 [==============================] - 2s 3us/step - loss: 25.6915 - mean_absolute_error: 18980.7236 - val_loss: 23.6079 - val_mean_absolute_error: 18304.7194\n",
      "\n",
      "Epoch 00004: val_loss did not improve from 22.37025\n",
      "Epoch 5/50\n",
      "807659/807659 [==============================] - 2s 3us/step - loss: 25.6738 - mean_absolute_error: 18945.2303 - val_loss: 23.3481 - val_mean_absolute_error: 18313.6947\n",
      "\n",
      "Epoch 00005: val_loss did not improve from 22.37025\n",
      "Epoch 6/50\n",
      "807659/807659 [==============================] - 2s 3us/step - loss: 25.6449 - mean_absolute_error: 18909.8275 - val_loss: 23.3364 - val_mean_absolute_error: 18237.7937\n",
      "\n",
      "Epoch 00006: val_loss did not improve from 22.37025\n",
      "Epoch 7/50\n",
      "807659/807659 [==============================] - 2s 3us/step - loss: 25.6065 - mean_absolute_error: 18954.9793 - val_loss: 23.4666 - val_mean_absolute_error: 18293.0894\n",
      "\n",
      "Epoch 00007: val_loss did not improve from 22.37025\n",
      "Epoch 8/50\n",
      "807659/807659 [==============================] - 2s 3us/step - loss: 25.6080 - mean_absolute_error: 18933.6604 - val_loss: 23.3990 - val_mean_absolute_error: 18257.4796\n",
      "\n",
      "Epoch 00008: val_loss did not improve from 22.37025\n",
      "Epoch 9/50\n",
      "807659/807659 [==============================] - 2s 3us/step - loss: 25.5908 - mean_absolute_error: 18937.9637 - val_loss: 23.7331 - val_mean_absolute_error: 18496.6756\n",
      "\n",
      "Epoch 00009: val_loss did not improve from 22.37025\n",
      "Epoch 10/50\n",
      "807659/807659 [==============================] - 2s 3us/step - loss: 25.5833 - mean_absolute_error: 18928.4796 - val_loss: 23.5912 - val_mean_absolute_error: 18312.6781\n",
      "\n",
      "Epoch 00010: val_loss did not improve from 22.37025\n",
      "Epoch 11/50\n",
      "807659/807659 [==============================] - 2s 3us/step - loss: 25.5584 - mean_absolute_error: 18925.6999 - val_loss: 23.5164 - val_mean_absolute_error: 18463.8481\n",
      "\n",
      "Epoch 00011: val_loss did not improve from 22.37025\n",
      "Epoch 12/50\n",
      "807659/807659 [==============================] - 2s 3us/step - loss: 25.5440 - mean_absolute_error: 18920.5976 - val_loss: 23.7520 - val_mean_absolute_error: 18525.1972\n",
      "\n",
      "Epoch 00012: val_loss did not improve from 22.37025\n",
      "Epoch 13/50\n",
      "807659/807659 [==============================] - 2s 3us/step - loss: 25.5775 - mean_absolute_error: 18920.2444 - val_loss: 23.6855 - val_mean_absolute_error: 18478.2027\n",
      "\n",
      "Epoch 00013: val_loss did not improve from 22.37025\n",
      "Epoch 14/50\n",
      "807659/807659 [==============================] - 2s 3us/step - loss: 25.5101 - mean_absolute_error: 18886.9229 - val_loss: 23.5866 - val_mean_absolute_error: 18290.4482\n",
      "\n",
      "Epoch 00014: val_loss did not improve from 22.37025\n",
      "Epoch 15/50\n",
      "807659/807659 [==============================] - 2s 3us/step - loss: 25.5017 - mean_absolute_error: 18920.2337 - val_loss: 23.6598 - val_mean_absolute_error: 18515.6456\n",
      "\n",
      "Epoch 00015: val_loss did not improve from 22.37025\n",
      "Epoch 16/50\n",
      "807659/807659 [==============================] - 2s 3us/step - loss: 25.5267 - mean_absolute_error: 18886.2284 - val_loss: 23.5460 - val_mean_absolute_error: 18488.2701\n",
      "\n",
      "Epoch 00016: val_loss did not improve from 22.37025\n",
      "Epoch 17/50\n",
      "807659/807659 [==============================] - 2s 3us/step - loss: 25.5288 - mean_absolute_error: 18901.3641 - val_loss: 23.3737 - val_mean_absolute_error: 18355.8187\n",
      "\n",
      "Epoch 00017: val_loss did not improve from 22.37025\n",
      "Epoch 18/50\n",
      "807659/807659 [==============================] - 2s 3us/step - loss: 25.5019 - mean_absolute_error: 18897.6606 - val_loss: 23.5608 - val_mean_absolute_error: 18385.1322\n",
      "\n",
      "Epoch 00018: val_loss did not improve from 22.37025\n",
      "Epoch 19/50\n",
      "807659/807659 [==============================] - 2s 3us/step - loss: 25.5755 - mean_absolute_error: 18890.0720 - val_loss: 23.4239 - val_mean_absolute_error: 18294.5399\n",
      "\n",
      "Epoch 00019: val_loss did not improve from 22.37025\n",
      "Epoch 20/50\n",
      "807659/807659 [==============================] - 2s 3us/step - loss: 25.4984 - mean_absolute_error: 18851.5115 - val_loss: 23.3596 - val_mean_absolute_error: 18340.1646\n",
      "\n",
      "Epoch 00020: val_loss did not improve from 22.37025\n",
      "Epoch 21/50\n",
      "807659/807659 [==============================] - 2s 3us/step - loss: 25.5145 - mean_absolute_error: 18875.2361 - val_loss: 23.6765 - val_mean_absolute_error: 18499.4552\n",
      "\n",
      "Epoch 00021: val_loss did not improve from 22.37025\n",
      "Epoch 22/50\n",
      "807659/807659 [==============================] - 2s 3us/step - loss: 25.4890 - mean_absolute_error: 18911.9268 - val_loss: 23.6152 - val_mean_absolute_error: 18431.8786\n",
      "\n",
      "Epoch 00022: val_loss did not improve from 22.37025\n",
      "Epoch 23/50\n",
      "807659/807659 [==============================] - 2s 3us/step - loss: 25.4563 - mean_absolute_error: 18881.5882 - val_loss: 23.4698 - val_mean_absolute_error: 18392.2903\n",
      "\n",
      "Epoch 00023: val_loss did not improve from 22.37025\n",
      "Epoch 24/50\n",
      "807659/807659 [==============================] - 2s 3us/step - loss: 25.4875 - mean_absolute_error: 18889.2809 - val_loss: 23.7645 - val_mean_absolute_error: 18449.5820\n",
      "\n",
      "Epoch 00024: val_loss did not improve from 22.37025\n",
      "Epoch 25/50\n",
      "807659/807659 [==============================] - 2s 3us/step - loss: 25.4511 - mean_absolute_error: 18857.9852 - val_loss: 24.0546 - val_mean_absolute_error: 18599.9387\n",
      "\n",
      "Epoch 00025: val_loss did not improve from 22.37025\n",
      "Epoch 26/50\n",
      "807659/807659 [==============================] - 2s 3us/step - loss: 25.4890 - mean_absolute_error: 18891.8731 - val_loss: 23.5165 - val_mean_absolute_error: 18478.1047\n",
      "\n",
      "Epoch 00026: val_loss did not improve from 22.37025\n",
      "Epoch 27/50\n",
      "807659/807659 [==============================] - 2s 3us/step - loss: 25.4350 - mean_absolute_error: 18842.9078 - val_loss: 23.6948 - val_mean_absolute_error: 18495.4401\n",
      "\n",
      "Epoch 00027: val_loss did not improve from 22.37025\n",
      "Epoch 28/50\n",
      "807659/807659 [==============================] - 2s 3us/step - loss: 25.4407 - mean_absolute_error: 18831.2973 - val_loss: 23.7550 - val_mean_absolute_error: 18380.3111\n",
      "\n",
      "Epoch 00028: val_loss did not improve from 22.37025\n",
      "Epoch 29/50\n",
      "807659/807659 [==============================] - 2s 3us/step - loss: 25.4176 - mean_absolute_error: 18857.9072 - val_loss: 23.8843 - val_mean_absolute_error: 18576.7162\n",
      "\n",
      "Epoch 00029: val_loss did not improve from 22.37025\n",
      "Epoch 30/50\n",
      "807659/807659 [==============================] - 2s 3us/step - loss: 25.4212 - mean_absolute_error: 18874.0584 - val_loss: 23.9057 - val_mean_absolute_error: 18594.1292\n",
      "\n",
      "Epoch 00030: val_loss did not improve from 22.37025\n",
      "Epoch 31/50\n",
      "807659/807659 [==============================] - 2s 3us/step - loss: 25.3952 - mean_absolute_error: 18825.1051 - val_loss: 23.5998 - val_mean_absolute_error: 18331.1582\n",
      "\n",
      "Epoch 00031: val_loss did not improve from 22.37025\n",
      "Epoch 32/50\n",
      "807659/807659 [==============================] - 2s 3us/step - loss: 25.3924 - mean_absolute_error: 18846.3215 - val_loss: 23.9006 - val_mean_absolute_error: 18536.4701\n",
      "\n",
      "Epoch 00032: val_loss did not improve from 22.37025\n",
      "Epoch 33/50\n",
      "807659/807659 [==============================] - 2s 3us/step - loss: 25.3633 - mean_absolute_error: 18825.2027 - val_loss: 24.0257 - val_mean_absolute_error: 18620.2276\n",
      "\n",
      "Epoch 00033: val_loss did not improve from 22.37025\n",
      "Epoch 34/50\n",
      "807659/807659 [==============================] - 2s 3us/step - loss: 25.3611 - mean_absolute_error: 18833.9069 - val_loss: 23.9787 - val_mean_absolute_error: 18453.0510\n",
      "\n",
      "Epoch 00034: val_loss did not improve from 22.37025\n",
      "Epoch 35/50\n",
      "807659/807659 [==============================] - 2s 3us/step - loss: 25.3628 - mean_absolute_error: 18818.1199 - val_loss: 24.0267 - val_mean_absolute_error: 18658.6173\n",
      "\n",
      "Epoch 00035: val_loss did not improve from 22.37025\n",
      "Epoch 36/50\n"
     ]
    },
    {
     "name": "stdout",
     "output_type": "stream",
     "text": [
      "807659/807659 [==============================] - 2s 3us/step - loss: 25.3914 - mean_absolute_error: 18862.2110 - val_loss: 24.1459 - val_mean_absolute_error: 18807.5961\n",
      "\n",
      "Epoch 00036: val_loss did not improve from 22.37025\n",
      "Epoch 37/50\n",
      "807659/807659 [==============================] - 2s 3us/step - loss: 25.3523 - mean_absolute_error: 18826.0674 - val_loss: 23.7801 - val_mean_absolute_error: 18593.8260\n",
      "\n",
      "Epoch 00037: val_loss did not improve from 22.37025\n",
      "Epoch 38/50\n",
      "807659/807659 [==============================] - 2s 3us/step - loss: 25.3756 - mean_absolute_error: 18836.6858 - val_loss: 24.4340 - val_mean_absolute_error: 18888.4062\n",
      "\n",
      "Epoch 00038: val_loss did not improve from 22.37025\n",
      "Epoch 39/50\n",
      "807659/807659 [==============================] - 2s 3us/step - loss: 25.3729 - mean_absolute_error: 18833.7592 - val_loss: 24.1205 - val_mean_absolute_error: 18559.6316\n",
      "\n",
      "Epoch 00039: val_loss did not improve from 22.37025\n",
      "Epoch 40/50\n",
      "807659/807659 [==============================] - 2s 3us/step - loss: 25.3307 - mean_absolute_error: 18807.5731 - val_loss: 23.9199 - val_mean_absolute_error: 18615.6030\n",
      "\n",
      "Epoch 00040: val_loss did not improve from 22.37025\n",
      "Epoch 41/50\n",
      "807659/807659 [==============================] - 2s 3us/step - loss: 25.3106 - mean_absolute_error: 18783.1960 - val_loss: 23.9480 - val_mean_absolute_error: 18652.9919\n",
      "\n",
      "Epoch 00041: val_loss did not improve from 22.37025\n",
      "Epoch 42/50\n",
      "807659/807659 [==============================] - 2s 3us/step - loss: 25.3356 - mean_absolute_error: 18812.5105 - val_loss: 23.9415 - val_mean_absolute_error: 18564.5673\n",
      "\n",
      "Epoch 00042: val_loss did not improve from 22.37025\n",
      "Epoch 43/50\n",
      "807659/807659 [==============================] - 2s 3us/step - loss: 25.3330 - mean_absolute_error: 18802.6425 - val_loss: 23.9125 - val_mean_absolute_error: 18601.1930\n",
      "\n",
      "Epoch 00043: val_loss did not improve from 22.37025\n",
      "Epoch 44/50\n",
      "807659/807659 [==============================] - 2s 3us/step - loss: 25.4319 - mean_absolute_error: 18832.5193 - val_loss: 23.9917 - val_mean_absolute_error: 18639.8829\n",
      "\n",
      "Epoch 00044: val_loss did not improve from 22.37025\n",
      "Epoch 45/50\n",
      "807659/807659 [==============================] - 2s 3us/step - loss: 25.4523 - mean_absolute_error: 18822.5960 - val_loss: 23.9862 - val_mean_absolute_error: 18692.0405\n",
      "\n",
      "Epoch 00045: val_loss did not improve from 22.37025\n",
      "Epoch 46/50\n",
      "807659/807659 [==============================] - 2s 3us/step - loss: 25.3104 - mean_absolute_error: 18766.7967 - val_loss: 23.9504 - val_mean_absolute_error: 18551.1115\n",
      "\n",
      "Epoch 00046: val_loss did not improve from 22.37025\n",
      "Epoch 47/50\n",
      "807659/807659 [==============================] - 2s 3us/step - loss: 25.2951 - mean_absolute_error: 18790.2278 - val_loss: 23.8744 - val_mean_absolute_error: 18684.5408\n",
      "\n",
      "Epoch 00047: val_loss did not improve from 22.37025\n",
      "Epoch 48/50\n",
      "807659/807659 [==============================] - 2s 3us/step - loss: 25.2821 - mean_absolute_error: 18781.2116 - val_loss: 23.7541 - val_mean_absolute_error: 18498.7273\n",
      "\n",
      "Epoch 00048: val_loss did not improve from 22.37025\n",
      "Epoch 49/50\n",
      "807659/807659 [==============================] - 2s 3us/step - loss: 25.3057 - mean_absolute_error: 18816.1065 - val_loss: 23.8029 - val_mean_absolute_error: 18657.9041\n",
      "\n",
      "Epoch 00049: val_loss did not improve from 22.37025\n",
      "Epoch 50/50\n",
      "807659/807659 [==============================] - 2s 3us/step - loss: 25.2816 - mean_absolute_error: 18796.5742 - val_loss: 23.9768 - val_mean_absolute_error: 18644.9227\n",
      "\n",
      "Epoch 00050: val_loss did not improve from 22.37025\n"
     ]
    }
   ],
   "source": [
    "hist = model2.fit(X_train, Y_train,\n",
    "          batch_size=16384, epochs=50,\n",
    "          validation_split=0.1,shuffle=True,callbacks=callbacks_list)"
   ]
  },
  {
   "cell_type": "markdown",
   "metadata": {},
   "source": [
    "# Visualizing Loss & Accuracy"
   ]
  },
  {
   "cell_type": "code",
   "execution_count": 292,
   "metadata": {},
   "outputs": [
    {
     "data": {
      "image/png": "[encoded data removed]",
      "text/plain": [
       "<Figure size 432x288 with 1 Axes>"
      ]
     },
     "metadata": {
      "needs_background": "light"
     },
     "output_type": "display_data"
    }
   ],
   "source": [
    "plt.plot(hist.history['loss'])\n",
    "plt.plot(hist.history['val_loss'])\n",
    "plt.title('Model loss')\n",
    "plt.ylabel('Loss')\n",
    "plt.xlabel('Epoch')\n",
    "plt.legend(['Train', 'Val'], loc='upper right')\n",
    "plt.show()"
   ]
  },
  {
   "cell_type": "markdown",
   "metadata": {},
   "source": [
    "# Output"
   ]
  },
  {
   "cell_type": "code",
   "execution_count": null,
   "metadata": {},
   "outputs": [],
   "source": [
    "#print('Mean Absolute Error:', metrics.mean_absolute_error(y_test, y_pred))  \n",
    "#print('Mean Squared Error:', metrics.mean_squared_error(y_test, y_pred))  \n",
    "#print('Root Mean Squared Error:', np.sqrt(metrics.mean_squared_error(y_test, y_pred)))"
   ]
  },
  {
   "cell_type": "code",
   "execution_count": null,
   "metadata": {},
   "outputs": [],
   "source": [
    "y_pred = model.predict(X_pred)"
   ]
  },
  {
   "cell_type": "code",
   "execution_count": null,
   "metadata": {},
   "outputs": [],
   "source": [
    "store_data['Total Yearly Income [EUR]'] = y_pred\n",
    "store_data.to_csv('output6.csv', sep=',')"
   ]
  },
  {
   "cell_type": "code",
   "execution_count": null,
   "metadata": {},
   "outputs": [],
   "source": []
  }
 ],
 "metadata": {
  "kernelspec": {
   "display_name": "Python 3",
   "language": "python",
   "name": "python3"
  },
  "language_info": {
   "codemirror_mode": {
    "name": "ipython",
    "version": 3
   },
   "file_extension": ".py",
   "mimetype": "text/x-python",
   "name": "python",
   "nbconvert_exporter": "python",
   "pygments_lexer": "ipython3",
   "version": "3.7.3"
  }
 },
 "nbformat": 4,
 "nbformat_minor": 2
}
