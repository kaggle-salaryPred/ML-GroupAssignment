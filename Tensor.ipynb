{
 "cells": [
  {
   "cell_type": "code",
   "execution_count": 1,
   "metadata": {},
   "outputs": [],
   "source": [
    "import pandas as pd  \n",
    "import numpy as np  \n",
    "import matplotlib.pyplot as plt  \n",
    "from sklearn.model_selection import train_test_split \n",
    "from sklearn.linear_model import LinearRegression\n",
    "from sklearn import metrics\n",
    "from sklearn.preprocessing import LabelEncoder\n",
    "from sklearn.preprocessing import OneHotEncoder\n",
    "import seaborn as sns\n",
    "import category_encoders as ce\n",
    "from sklearn.preprocessing import LabelBinarizer\n",
    "#import xgboost as xgb\n",
    "from sklearn.ensemble import RandomForestRegressor"
   ]
  },
  {
   "cell_type": "markdown",
   "metadata": {},
   "source": [
    "# To load Input data"
   ]
  },
  {
   "cell_type": "code",
   "execution_count": 2,
   "metadata": {},
   "outputs": [
    {
     "name": "stderr",
     "output_type": "stream",
     "text": [
      "/home/james/miniconda3/lib/python3.7/site-packages/IPython/core/interactiveshell.py:3058: DtypeWarning: Columns (2,4) have mixed types. Specify dtype option on import or set low_memory=False.\n",
      "  interactivity=interactivity, compiler=compiler, result=result)\n",
      "/home/james/miniconda3/lib/python3.7/site-packages/IPython/core/interactiveshell.py:3058: DtypeWarning: Columns (4) have mixed types. Specify dtype option on import or set low_memory=False.\n",
      "  interactivity=interactivity, compiler=compiler, result=result)\n"
     ]
    }
   ],
   "source": [
    "dataset_test = pd.read_csv('tcd-ml-1920-group-income-train.csv')\n",
    "dataset_pred = pd.read_csv('tcd-ml-1920-group-income-test.csv')\n",
    "store_data = dataset_pred.filter(['Instance'], axis=1)\n",
    "dataset_test.columns = dataset_test.columns.str.strip().str.replace(' ', '_').str.replace('(', '').str.replace(')', '')\n",
    "dataset_pred.columns = dataset_pred.columns.str.strip().str.replace(' ', '_').str.replace('(', '').str.replace(')', '')\n",
    "\n",
    "dataset_test.rename(columns={'Work_Experience_in_Current_Job_[years]': 'Work_Experience_in_Current_Job'}, inplace=True)\n",
    "dataset_pred.rename(columns={'Work_Experience_in_Current_Job_[years]': 'Work_Experience_in_Current_Job'}, inplace=True)"
   ]
  },
  {
   "cell_type": "markdown",
   "metadata": {},
   "source": [
    "# Remove Instance Column"
   ]
  },
  {
   "cell_type": "code",
   "execution_count": 3,
   "metadata": {},
   "outputs": [],
   "source": [
    "dataset_test = dataset_test.drop('Instance', 1)\n",
    "dataset_pred = dataset_pred.drop('Instance', 1)\n",
    "dataset_test.drop(dataset_test.loc[dataset_test['Total_Yearly_Income_[EUR]']==2548791].index, inplace=True)"
   ]
  },
  {
   "cell_type": "markdown",
   "metadata": {},
   "source": [
    "# Change null to rand value between std dev around mean. Alternate could be panda interpolate\n"
   ]
  },
  {
   "cell_type": "code",
   "execution_count": 4,
   "metadata": {},
   "outputs": [
    {
     "name": "stderr",
     "output_type": "stream",
     "text": [
      "/home/james/miniconda3/lib/python3.7/site-packages/ipykernel_launcher.py:5: SettingWithCopyWarning: \n",
      "A value is trying to be set on a copy of a slice from a DataFrame\n",
      "\n",
      "See the caveats in the documentation: http://pandas.pydata.org/pandas-docs/stable/user_guide/indexing.html#returning-a-view-versus-a-copy\n",
      "  \"\"\"\n",
      "/home/james/miniconda3/lib/python3.7/site-packages/ipykernel_launcher.py:12: SettingWithCopyWarning: \n",
      "A value is trying to be set on a copy of a slice from a DataFrame\n",
      "\n",
      "See the caveats in the documentation: http://pandas.pydata.org/pandas-docs/stable/user_guide/indexing.html#returning-a-view-versus-a-copy\n",
      "  if sys.path[0] == '':\n"
     ]
    }
   ],
   "source": [
    "Column_Name_avg = dataset_test['Year_of_Record'].mean()\n",
    "Column_Name_std = dataset_test['Year_of_Record'].std()\n",
    "Column_Name_null_count = dataset_test['Year_of_Record'].isnull().sum()\n",
    "Column_Name_null_random_list = np.random.randint(Column_Name_avg - Column_Name_std, Column_Name_avg + Column_Name_std, size=Column_Name_null_count)\n",
    "dataset_test['Year_of_Record'][np.isnan(dataset_test['Year_of_Record'])] = Column_Name_null_random_list\n",
    "dataset_test['Year_of_Record'] = dataset_test['Year_of_Record'].astype(int)\n",
    "\n",
    "Column_Name_avg = dataset_pred['Year_of_Record'].mean()\n",
    "Column_Name_std = dataset_pred['Year_of_Record'].std()\n",
    "Column_Name_null_count = dataset_pred['Year_of_Record'].isnull().sum()\n",
    "Column_Name_null_random_list = np.random.randint(Column_Name_avg - Column_Name_std, Column_Name_avg + Column_Name_std, size=Column_Name_null_count)\n",
    "dataset_pred['Year_of_Record'][np.isnan(dataset_pred['Year_of_Record'])] = Column_Name_null_random_list\n",
    "dataset_pred['Year_of_Record'] = dataset_pred['Year_of_Record'].astype(int)"
   ]
  },
  {
   "cell_type": "markdown",
   "metadata": {},
   "source": [
    "# Filling Gender Nan and other values\n"
   ]
  },
  {
   "cell_type": "code",
   "execution_count": 5,
   "metadata": {},
   "outputs": [],
   "source": [
    "dataset_test.Gender = dataset_test.Gender.replace(\"f\", \"female\")\n",
    "dataset_test[\"Gender\"].fillna(\"unknown\", inplace = True)\n",
    "dataset_test.Gender = dataset_test.Gender.replace(\"0\", \"unknown\")\n",
    "\n",
    "dataset_pred.Gender = dataset_pred.Gender.replace(\"f\", \"female\")\n",
    "dataset_pred[\"Gender\"].fillna(\"unknown\", inplace = True)\n",
    "dataset_pred.Gender = dataset_pred.Gender.replace(\"0\", \"unknown\")"
   ]
  },
  {
   "cell_type": "markdown",
   "metadata": {},
   "source": [
    "# Filling University Degree Nan Values"
   ]
  },
  {
   "cell_type": "code",
   "execution_count": 6,
   "metadata": {},
   "outputs": [],
   "source": [
    "dataset_test.University_Degree = dataset_test.University_Degree.replace(\"0\", \"No\")\n",
    "dataset_test[\"University_Degree\"].fillna(\"No\", inplace = True)\n",
    "\n",
    "dataset_pred.University_Degree = dataset_pred.University_Degree.replace(\"0\", \"No\")\n",
    "dataset_pred[\"University_Degree\"].fillna(\"No\", inplace = True)"
   ]
  },
  {
   "cell_type": "markdown",
   "metadata": {},
   "source": [
    "# Filling Haircolor Nan Values"
   ]
  },
  {
   "cell_type": "code",
   "execution_count": 7,
   "metadata": {},
   "outputs": [],
   "source": [
    "dataset_test.Hair_Color = dataset_test.Hair_Color.replace(\"0\", \"Unknown\")\n",
    "dataset_test[\"Hair_Color\"].fillna(\"Unknown\", inplace = True)\n",
    "dataset_test = dataset_test.drop('Hair_Color', 1)\n",
    "\n",
    "dataset_pred.Hair_Color = dataset_pred.Hair_Color.replace(\"0\", \"Unknown\")\n",
    "dataset_pred[\"Hair_Color\"].fillna(\"Unknown\", inplace = True)\n",
    "dataset_pred = dataset_pred.drop('Hair_Color', 1)"
   ]
  },
  {
   "cell_type": "markdown",
   "metadata": {},
   "source": [
    "# Filling Profession Nan Values"
   ]
  },
  {
   "cell_type": "code",
   "execution_count": 8,
   "metadata": {},
   "outputs": [],
   "source": [
    "dataset_test[\"Profession\"].fillna(\"Unknown\", inplace = True)\n",
    "dataset_pred[\"Profession\"].fillna(\"Unknown\", inplace = True)"
   ]
  },
  {
   "cell_type": "markdown",
   "metadata": {},
   "source": [
    "# Filling Housing_Situation Corrupt Values"
   ]
  },
  {
   "cell_type": "code",
   "execution_count": 9,
   "metadata": {},
   "outputs": [],
   "source": [
    "dataset_test[\"Housing_Situation\"] = dataset_test[\"Housing_Situation\"].replace(0,'Unknown')\n",
    "dataset_test[\"Housing_Situation\"] = dataset_test[\"Housing_Situation\"].replace('0','Unknown')\n",
    "dataset_test[\"Housing_Situation\"] = dataset_test[\"Housing_Situation\"].replace('nA','Unknown')\n",
    "\n",
    "dataset_pred[\"Housing_Situation\"] = dataset_pred[\"Housing_Situation\"].replace(0,'Unknown')\n",
    "dataset_pred[\"Housing_Situation\"] = dataset_pred[\"Housing_Situation\"].replace('0','Unknown')\n",
    "dataset_pred[\"Housing_Situation\"] = dataset_pred[\"Housing_Situation\"].replace('nA','Unknown')\n",
    "\n",
    "\n",
    "dataset_test['Satisfation_with_employer'] = dataset_test['Satisfation_with_employer'].fillna(method='ffill')\n",
    "dataset_pred['Satisfation_with_employer'] = dataset_pred['Satisfation_with_employer'].fillna(method='ffill')"
   ]
  },
  {
   "cell_type": "markdown",
   "metadata": {},
   "source": [
    "# Convert work Experience in current job to float and replace #NUM! to mean of their Age"
   ]
  },
  {
   "cell_type": "code",
   "execution_count": 10,
   "metadata": {},
   "outputs": [
    {
     "name": "stderr",
     "output_type": "stream",
     "text": [
      "/home/james/miniconda3/lib/python3.7/site-packages/ipykernel_launcher.py:3: UserWarning: Pandas doesn't allow columns to be created via a new attribute name - see https://pandas.pydata.org/pandas-docs/stable/indexing.html#attribute-access\n",
      "  This is separate from the ipykernel package so we can avoid doing imports until\n",
      "/home/james/miniconda3/lib/python3.7/site-packages/ipykernel_launcher.py:8: UserWarning: Pandas doesn't allow columns to be created via a new attribute name - see https://pandas.pydata.org/pandas-docs/stable/indexing.html#attribute-access\n",
      "  \n"
     ]
    }
   ],
   "source": [
    "dataset_test.Work_Experience_in_Current_Job = dataset_test.Work_Experience_in_Current_Job.replace(\"#NUM!\", None)\n",
    "dataset_test['Work_Experience_in_Current_Job'] = dataset_test['Work_Experience_in_Current_Job'].astype(float)\n",
    "dataset_test.value = dataset_test.groupby('Age')['Work_Experience_in_Current_Job'].apply(lambda x: x.fillna(x.median()))\n",
    "dataset_test.value = dataset_test.Work_Experience_in_Current_Job.fillna(dataset_test.Work_Experience_in_Current_Job.median())\n",
    "\n",
    "dataset_pred.Work_Experience_in_Current_Job = dataset_pred.Work_Experience_in_Current_Job.replace(\"#NUM!\", None)\n",
    "dataset_pred['Work_Experience_in_Current_Job'] = dataset_pred['Work_Experience_in_Current_Job'].astype(float)\n",
    "dataset_pred.value = dataset_pred.groupby('Age')['Work_Experience_in_Current_Job'].apply(lambda x: x.fillna(x.median()))\n",
    "dataset_pred.value = dataset_pred.Work_Experience_in_Current_Job.fillna(dataset_pred.Work_Experience_in_Current_Job.median())"
   ]
  },
  {
   "cell_type": "markdown",
   "metadata": {},
   "source": [
    "# Remove EUR in Yearly_Income to make it numerical value "
   ]
  },
  {
   "cell_type": "code",
   "execution_count": 11,
   "metadata": {},
   "outputs": [],
   "source": [
    "dataset_test['Yearly_Income_in_addition_to_Salary_e.g._Rental_Income'] = dataset_test['Yearly_Income_in_addition_to_Salary_e.g._Rental_Income'].replace('EUR', '', regex=True).astype(float)\n",
    "dataset_pred['Yearly_Income_in_addition_to_Salary_e.g._Rental_Income'] = dataset_pred['Yearly_Income_in_addition_to_Salary_e.g._Rental_Income'].replace('EUR', '', regex=True).astype(float)"
   ]
  },
  {
   "cell_type": "markdown",
   "metadata": {},
   "source": [
    "# Label encoding the categorical columns"
   ]
  },
  {
   "cell_type": "code",
   "execution_count": 12,
   "metadata": {},
   "outputs": [],
   "source": [
    "for col in dataset_test.dtypes[dataset_test.dtypes == 'object'].index.tolist():\n",
    "    feat_le = LabelEncoder()\n",
    "    train_list = dataset_test[col].unique()\n",
    "    dataset_test.loc[1201,col] = 'other'\n",
    "    test_list = dataset_pred[col].unique()\n",
    "    test_replace = list(set(test_list) - set(train_list))\n",
    "    dataset_pred[col] = dataset_pred[col].replace(test_replace, 'other')\n",
    "    feat_le.fit(dataset_test[col].unique().astype(str))\n",
    "    dataset_test[col] = feat_le.transform(dataset_test[col].astype(str))\n",
    "    dataset_pred[col] = feat_le.transform(dataset_pred[col].astype(str))\n",
    "\n"
   ]
  },
  {
   "cell_type": "markdown",
   "metadata": {},
   "source": [
    "### This function takes a string column name and returns a list\n",
    "### containing indices of dataframe that have outliers in that column\n",
    "### Refer: https://towardsdatascience.com/5-ways-to-detect-outliers-that-every-data-scientist-should-know-python-code-70a54335a623\n"
   ]
  },
  {
   "cell_type": "code",
   "execution_count": 13,
   "metadata": {},
   "outputs": [],
   "source": [
    "def OutlierByColumn(colname):\n",
    "    rows = dataset_test.shape[0]\n",
    "    col_std = np.std(dataset_test[colname])\n",
    "    col_mean = np.mean(dataset_test[colname])\n",
    "    anomaly_cut_off = col_std * 3\n",
    "    lower_limit  = col_mean - anomaly_cut_off \n",
    "    upper_limit = col_mean + anomaly_cut_off\n",
    "    anomalies_indices = []\n",
    "    for i in range(rows):\n",
    "        ele = dataset_test[colname][i]\n",
    "        if ele > upper_limit or ele < lower_limit:\n",
    "            anomalies_indices.append(i)\n",
    "    return anomalies_indices"
   ]
  },
  {
   "cell_type": "markdown",
   "metadata": {},
   "source": [
    "# Running outlier"
   ]
  },
  {
   "cell_type": "code",
   "execution_count": 14,
   "metadata": {},
   "outputs": [],
   "source": [
    "arr1 = OutlierByColumn('Work_Experience_in_Current_Job')\n",
    "arr2 = OutlierByColumn('Age')\n",
    "#arr3 = OutlierByColumn('Body_Height_[cm]')\n",
    "arr4 = OutlierByColumn('Yearly_Income_in_addition_to_Salary_e.g._Rental_Income')\n",
    "arr5 = OutlierByColumn('Size_of_City')"
   ]
  },
  {
   "cell_type": "code",
   "execution_count": 15,
   "metadata": {},
   "outputs": [],
   "source": [
    "#Union of all lists \n",
    "union_index = np.union1d(arr1,arr2)\n",
    "#union_index = np.union1d(union_index,arr3)\n",
    "union_index = np.union1d(union_index,arr4)\n",
    "union_index = np.union1d(union_index,arr5)\n",
    "len(union_index)\n",
    "dataset_test = dataset_test.drop(union_index)"
   ]
  },
  {
   "cell_type": "markdown",
   "metadata": {},
   "source": [
    "# View Data"
   ]
  },
  {
   "cell_type": "code",
   "execution_count": 20,
   "metadata": {},
   "outputs": [
    {
     "data": {
      "text/html": [
       "<div>\n",
       "<style scoped>\n",
       "    .dataframe tbody tr th:only-of-type {\n",
       "        vertical-align: middle;\n",
       "    }\n",
       "\n",
       "    .dataframe tbody tr th {\n",
       "        vertical-align: top;\n",
       "    }\n",
       "\n",
       "    .dataframe thead th {\n",
       "        text-align: right;\n",
       "    }\n",
       "</style>\n",
       "<table border=\"1\" class=\"dataframe\">\n",
       "  <thead>\n",
       "    <tr style=\"text-align: right;\">\n",
       "      <th></th>\n",
       "      <th>Year_of_Record</th>\n",
       "      <th>Housing_Situation</th>\n",
       "      <th>Crime_Level_in_the_City_of_Employement</th>\n",
       "      <th>Work_Experience_in_Current_Job</th>\n",
       "      <th>Satisfation_with_employer</th>\n",
       "      <th>Gender</th>\n",
       "      <th>Age</th>\n",
       "      <th>Country</th>\n",
       "      <th>Size_of_City</th>\n",
       "      <th>Profession</th>\n",
       "      <th>University_Degree</th>\n",
       "      <th>Wears_Glasses</th>\n",
       "      <th>Body_Height_[cm]</th>\n",
       "      <th>Yearly_Income_in_addition_to_Salary_e.g._Rental_Income</th>\n",
       "      <th>Total_Yearly_Income_[EUR]</th>\n",
       "    </tr>\n",
       "  </thead>\n",
       "  <tbody>\n",
       "    <tr>\n",
       "      <td>0</td>\n",
       "      <td>1940</td>\n",
       "      <td>7</td>\n",
       "      <td>33</td>\n",
       "      <td>17.0</td>\n",
       "      <td>3</td>\n",
       "      <td>2</td>\n",
       "      <td>45</td>\n",
       "      <td>1</td>\n",
       "      <td>25179</td>\n",
       "      <td>611</td>\n",
       "      <td>2</td>\n",
       "      <td>1</td>\n",
       "      <td>182</td>\n",
       "      <td>0.0</td>\n",
       "      <td>6182.05</td>\n",
       "    </tr>\n",
       "    <tr>\n",
       "      <td>1</td>\n",
       "      <td>1940</td>\n",
       "      <td>7</td>\n",
       "      <td>25</td>\n",
       "      <td>4.9</td>\n",
       "      <td>3</td>\n",
       "      <td>0</td>\n",
       "      <td>17</td>\n",
       "      <td>1</td>\n",
       "      <td>2278204</td>\n",
       "      <td>623</td>\n",
       "      <td>2</td>\n",
       "      <td>0</td>\n",
       "      <td>172</td>\n",
       "      <td>0.0</td>\n",
       "      <td>6819.69</td>\n",
       "    </tr>\n",
       "    <tr>\n",
       "      <td>2</td>\n",
       "      <td>1940</td>\n",
       "      <td>7</td>\n",
       "      <td>34</td>\n",
       "      <td>21.0</td>\n",
       "      <td>3</td>\n",
       "      <td>0</td>\n",
       "      <td>48</td>\n",
       "      <td>1</td>\n",
       "      <td>822134</td>\n",
       "      <td>1195</td>\n",
       "      <td>0</td>\n",
       "      <td>0</td>\n",
       "      <td>144</td>\n",
       "      <td>0.0</td>\n",
       "      <td>8663.53</td>\n",
       "    </tr>\n",
       "    <tr>\n",
       "      <td>3</td>\n",
       "      <td>1940</td>\n",
       "      <td>7</td>\n",
       "      <td>70</td>\n",
       "      <td>18.0</td>\n",
       "      <td>0</td>\n",
       "      <td>0</td>\n",
       "      <td>42</td>\n",
       "      <td>2</td>\n",
       "      <td>59477</td>\n",
       "      <td>1009</td>\n",
       "      <td>2</td>\n",
       "      <td>1</td>\n",
       "      <td>152</td>\n",
       "      <td>0.0</td>\n",
       "      <td>2400.64</td>\n",
       "    </tr>\n",
       "    <tr>\n",
       "      <td>4</td>\n",
       "      <td>1940</td>\n",
       "      <td>7</td>\n",
       "      <td>51</td>\n",
       "      <td>8.0</td>\n",
       "      <td>1</td>\n",
       "      <td>2</td>\n",
       "      <td>15</td>\n",
       "      <td>2</td>\n",
       "      <td>23494</td>\n",
       "      <td>761</td>\n",
       "      <td>1</td>\n",
       "      <td>1</td>\n",
       "      <td>180</td>\n",
       "      <td>0.0</td>\n",
       "      <td>2816.18</td>\n",
       "    </tr>\n",
       "  </tbody>\n",
       "</table>\n",
       "</div>"
      ],
      "text/plain": [
       "   Year_of_Record  Housing_Situation  Crime_Level_in_the_City_of_Employement  \\\n",
       "0            1940                  7                                      33   \n",
       "1            1940                  7                                      25   \n",
       "2            1940                  7                                      34   \n",
       "3            1940                  7                                      70   \n",
       "4            1940                  7                                      51   \n",
       "\n",
       "   Work_Experience_in_Current_Job  Satisfation_with_employer  Gender  Age  \\\n",
       "0                            17.0                          3       2   45   \n",
       "1                             4.9                          3       0   17   \n",
       "2                            21.0                          3       0   48   \n",
       "3                            18.0                          0       0   42   \n",
       "4                             8.0                          1       2   15   \n",
       "\n",
       "   Country  Size_of_City  Profession  University_Degree  Wears_Glasses  \\\n",
       "0        1         25179         611                  2              1   \n",
       "1        1       2278204         623                  2              0   \n",
       "2        1        822134        1195                  0              0   \n",
       "3        2         59477        1009                  2              1   \n",
       "4        2         23494         761                  1              1   \n",
       "\n",
       "   Body_Height_[cm]  Yearly_Income_in_addition_to_Salary_e.g._Rental_Income  \\\n",
       "0               182                                                0.0        \n",
       "1               172                                                0.0        \n",
       "2               144                                                0.0        \n",
       "3               152                                                0.0        \n",
       "4               180                                                0.0        \n",
       "\n",
       "   Total_Yearly_Income_[EUR]  \n",
       "0                    6182.05  \n",
       "1                    6819.69  \n",
       "2                    8663.53  \n",
       "3                    2400.64  \n",
       "4                    2816.18  "
      ]
     },
     "execution_count": 20,
     "metadata": {},
     "output_type": "execute_result"
    }
   ],
   "source": [
    "dataset_test.head(5)"
   ]
  },
  {
   "cell_type": "code",
   "execution_count": 21,
   "metadata": {},
   "outputs": [],
   "source": [
    "y = dataset_test['Total_Yearly_Income_[EUR]'].values\n",
    "dataset_test.drop('Total_Yearly_Income_[EUR]', axis=1, inplace=True)\n",
    "X = dataset_test[dataset_test.columns].values"
   ]
  },
  {
   "cell_type": "code",
   "execution_count": 22,
   "metadata": {},
   "outputs": [
    {
     "name": "stdout",
     "output_type": "stream",
     "text": [
      "(997110,)\n",
      "(997110, 14)\n"
     ]
    }
   ],
   "source": [
    "print(y.shape)\n",
    "print(X.shape)"
   ]
  },
  {
   "cell_type": "code",
   "execution_count": 23,
   "metadata": {},
   "outputs": [],
   "source": [
    "#split 80% of the data to the training set while 20% of the data to test set.\n",
    "#X_train, X_test, y_train, y_test = train_test_split(X, y, test_size=0.2, random_state=0)\n",
    "X_train, X_test, Y_train, Y_test = train_test_split(X, y, test_size=0.1)"
   ]
  },
  {
   "cell_type": "code",
   "execution_count": 24,
   "metadata": {},
   "outputs": [
    {
     "name": "stdout",
     "output_type": "stream",
     "text": [
      "(897399, 14) (99711, 14)\n",
      "(897399,) (99711,)\n"
     ]
    }
   ],
   "source": [
    "print(X_train.shape, X_test.shape)\n",
    "print(Y_train.shape, Y_test.shape)"
   ]
  },
  {
   "cell_type": "code",
   "execution_count": 25,
   "metadata": {},
   "outputs": [],
   "source": [
    "\n",
    "#dataset_pred.drop('Total_Yearly_Income_[EUR]', axis=1, inplace=True)\n",
    "#X_test = dataset_pred[dataset_pred.columns].values"
   ]
  },
  {
   "cell_type": "markdown",
   "metadata": {},
   "source": [
    "# KERAS Model"
   ]
  },
  {
   "cell_type": "code",
   "execution_count": 26,
   "metadata": {},
   "outputs": [
    {
     "name": "stderr",
     "output_type": "stream",
     "text": [
      "Using TensorFlow backend.\n"
     ]
    }
   ],
   "source": [
    "from keras.models import Sequential\n",
    "from keras.layers import Dense\n",
    "from keras import optimizers\n",
    "from keras.layers import Dropout"
   ]
  },
  {
   "cell_type": "code",
   "execution_count": 38,
   "metadata": {},
   "outputs": [],
   "source": [
    "sgd = optimizers.SGD(lr=0.1, decay=1e-6, momentum=0.9, nesterov=True)\n"
   ]
  },
  {
   "cell_type": "code",
   "execution_count": 39,
   "metadata": {},
   "outputs": [],
   "source": [
    "model = Sequential()\n",
    "model.add(Dense(14, input_dim=14,kernel_initializer='RandomUniform', activation= \"relu\"))\n",
    "model.add(Dropout(0.2))\n",
    "model.add(Dense(7,kernel_initializer='normal', activation= \"relu\"))\n",
    "model.add(Dense(1))"
   ]
  },
  {
   "cell_type": "code",
   "execution_count": 40,
   "metadata": {},
   "outputs": [],
   "source": [
    "model.compile(loss= \"mean_absolute_error\" , optimizer=sgd, metrics=[\"mean_absolute_error\"])"
   ]
  },
  {
   "cell_type": "code",
   "execution_count": 41,
   "metadata": {},
   "outputs": [
    {
     "name": "stdout",
     "output_type": "stream",
     "text": [
      "_________________________________________________________________\n",
      "Layer (type)                 Output Shape              Param #   \n",
      "=================================================================\n",
      "dense_4 (Dense)              (None, 14)                210       \n",
      "_________________________________________________________________\n",
      "dropout_2 (Dropout)          (None, 14)                0         \n",
      "_________________________________________________________________\n",
      "dense_5 (Dense)              (None, 7)                 105       \n",
      "_________________________________________________________________\n",
      "dense_6 (Dense)              (None, 1)                 8         \n",
      "=================================================================\n",
      "Total params: 323\n",
      "Trainable params: 323\n",
      "Non-trainable params: 0\n",
      "_________________________________________________________________\n"
     ]
    }
   ],
   "source": [
    "model.summary()"
   ]
  },
  {
   "cell_type": "code",
   "execution_count": 43,
   "metadata": {},
   "outputs": [
    {
     "name": "stdout",
     "output_type": "stream",
     "text": [
      "Train on 717919 samples, validate on 179480 samples\n",
      "Epoch 1/30\n",
      "717919/717919 [==============================] - 4s 6us/step - loss: 62907.7786 - mean_absolute_error: 62907.7786 - val_loss: 63064.6327 - val_mean_absolute_error: 63064.6327\n",
      "Epoch 2/30\n",
      "717919/717919 [==============================] - 4s 6us/step - loss: 62380.7121 - mean_absolute_error: 62380.7121 - val_loss: 62585.9120 - val_mean_absolute_error: 62585.9120\n",
      "Epoch 3/30\n",
      "717919/717919 [==============================] - 4s 6us/step - loss: 61943.3312 - mean_absolute_error: 61943.3312 - val_loss: 62186.4939 - val_mean_absolute_error: 62186.4939\n",
      "Epoch 4/30\n",
      "717919/717919 [==============================] - 4s 6us/step - loss: 61575.0259 - mean_absolute_error: 61575.0259 - val_loss: 61846.2615 - val_mean_absolute_error: 61846.2615\n",
      "Epoch 5/30\n",
      "717919/717919 [==============================] - 4s 6us/step - loss: 61259.1733 - mean_absolute_error: 61259.1733 - val_loss: 61551.2405 - val_mean_absolute_error: 61551.2405\n",
      "Epoch 6/30\n",
      "717919/717919 [==============================] - 4s 6us/step - loss: 60983.4766 - mean_absolute_error: 60983.4766 - val_loss: 61291.5648 - val_mean_absolute_error: 61291.5648\n",
      "Epoch 7/30\n",
      "717919/717919 [==============================] - 4s 6us/step - loss: 60739.7946 - mean_absolute_error: 60739.7946 - val_loss: 61060.3393 - val_mean_absolute_error: 61060.3393\n",
      "Epoch 8/30\n",
      "717919/717919 [==============================] - 4s 6us/step - loss: 60522.2533 - mean_absolute_error: 60522.2533 - val_loss: 60852.6925 - val_mean_absolute_error: 60852.6925\n",
      "Epoch 9/30\n",
      "717919/717919 [==============================] - 4s 6us/step - loss: 60326.3057 - mean_absolute_error: 60326.3057 - val_loss: 60664.8121 - val_mean_absolute_error: 60664.8121\n",
      "Epoch 10/30\n",
      "717919/717919 [==============================] - 4s 6us/step - loss: 60148.5595 - mean_absolute_error: 60148.5595 - val_loss: 60493.5630 - val_mean_absolute_error: 60493.5630\n",
      "Epoch 11/30\n",
      "717919/717919 [==============================] - 4s 6us/step - loss: 59986.4989 - mean_absolute_error: 59986.4989 - val_loss: 60337.2075 - val_mean_absolute_error: 60337.2075\n",
      "Epoch 12/30\n",
      "717919/717919 [==============================] - 4s 6us/step - loss: 59838.0841 - mean_absolute_error: 59838.0841 - val_loss: 60193.5873 - val_mean_absolute_error: 60193.5873\n",
      "Epoch 13/30\n",
      "717919/717919 [==============================] - 4s 6us/step - loss: 59701.3497 - mean_absolute_error: 59701.3497 - val_loss: 60060.8780 - val_mean_absolute_error: 60060.8780\n",
      "Epoch 14/30\n",
      "717919/717919 [==============================] - 4s 6us/step - loss: 59574.9237 - mean_absolute_error: 59574.9237 - val_loss: 59937.8984 - val_mean_absolute_error: 59937.8984\n",
      "Epoch 15/30\n",
      "717919/717919 [==============================] - 4s 6us/step - loss: 59457.5315 - mean_absolute_error: 59457.5315 - val_loss: 59823.5174 - val_mean_absolute_error: 59823.5174\n",
      "Epoch 16/30\n",
      "717919/717919 [==============================] - 4s 6us/step - loss: 59348.1354 - mean_absolute_error: 59348.1354 - val_loss: 59716.9567 - val_mean_absolute_error: 59716.9567\n",
      "Epoch 17/30\n",
      "717919/717919 [==============================] - 4s 6us/step - loss: 59246.1016 - mean_absolute_error: 59246.1016 - val_loss: 59617.8137 - val_mean_absolute_error: 59617.8137\n",
      "Epoch 18/30\n",
      "717919/717919 [==============================] - 4s 6us/step - loss: 59150.8652 - mean_absolute_error: 59150.8652 - val_loss: 59525.1724 - val_mean_absolute_error: 59525.1724\n",
      "Epoch 19/30\n",
      "717919/717919 [==============================] - 4s 6us/step - loss: 59061.7014 - mean_absolute_error: 59061.7014 - val_loss: 59438.2978 - val_mean_absolute_error: 59438.2978\n",
      "Epoch 20/30\n",
      "717919/717919 [==============================] - 4s 6us/step - loss: 58977.9322 - mean_absolute_error: 58977.9322 - val_loss: 59356.7150 - val_mean_absolute_error: 59356.7150\n",
      "Epoch 21/30\n",
      "717919/717919 [==============================] - 4s 6us/step - loss: 58899.1932 - mean_absolute_error: 58899.1932 - val_loss: 59279.9840 - val_mean_absolute_error: 59279.9840\n",
      "Epoch 22/30\n",
      "717919/717919 [==============================] - 4s 6us/step - loss: 58825.2918 - mean_absolute_error: 58825.2918 - val_loss: 59207.9617 - val_mean_absolute_error: 59207.9617\n",
      "Epoch 23/30\n",
      "717919/717919 [==============================] - 5s 7us/step - loss: 58755.8687 - mean_absolute_error: 58755.8687 - val_loss: 59140.0365 - val_mean_absolute_error: 59140.0365\n",
      "Epoch 24/30\n",
      "717919/717919 [==============================] - 5s 7us/step - loss: 58690.4173 - mean_absolute_error: 58690.4173 - val_loss: 59075.6939 - val_mean_absolute_error: 59075.6939\n",
      "Epoch 25/30\n",
      "717919/717919 [==============================] - 5s 7us/step - loss: 58628.4992 - mean_absolute_error: 58628.4992 - val_loss: 59014.7301 - val_mean_absolute_error: 59014.7301\n",
      "Epoch 26/30\n",
      "717919/717919 [==============================] - 4s 6us/step - loss: 58569.8680 - mean_absolute_error: 58569.8680 - val_loss: 58956.9743 - val_mean_absolute_error: 58956.9743\n",
      "Epoch 27/30\n",
      "717919/717919 [==============================] - 4s 6us/step - loss: 58514.2933 - mean_absolute_error: 58514.2933 - val_loss: 58902.1782 - val_mean_absolute_error: 58902.1782\n",
      "Epoch 28/30\n",
      "717919/717919 [==============================] - 4s 5us/step - loss: 58461.5957 - mean_absolute_error: 58461.5957 - val_loss: 58850.1924 - val_mean_absolute_error: 58850.1924\n",
      "Epoch 29/30\n",
      "717919/717919 [==============================] - 4s 6us/step - loss: 58411.5911 - mean_absolute_error: 58411.5911 - val_loss: 58800.8083 - val_mean_absolute_error: 58800.8083\n",
      "Epoch 30/30\n",
      "717919/717919 [==============================] - 4s 6us/step - loss: 58364.0896 - mean_absolute_error: 58364.0896 - val_loss: 58753.7998 - val_mean_absolute_error: 58753.7998\n"
     ]
    }
   ],
   "source": [
    "hist = model.fit(X_train, Y_train,\n",
    "          batch_size=1024, epochs=30,\n",
    "          validation_split=0.2)"
   ]
  },
  {
   "cell_type": "code",
   "execution_count": 44,
   "metadata": {},
   "outputs": [
    {
     "name": "stdout",
     "output_type": "stream",
     "text": [
      "99711/99711 [==============================] - 5s 47us/step\n"
     ]
    },
    {
     "data": {
      "text/plain": [
       "58820.074504615215"
      ]
     },
     "execution_count": 44,
     "metadata": {},
     "output_type": "execute_result"
    }
   ],
   "source": [
    "model.evaluate(X_test, Y_test)[1]"
   ]
  },
  {
   "cell_type": "markdown",
   "metadata": {},
   "source": [
    "# Visualizing Loss & Accuracy"
   ]
  },
  {
   "cell_type": "code",
   "execution_count": 45,
   "metadata": {},
   "outputs": [
    {
     "data": {
      "image/png": "[encoded data removed]",
      "text/plain": [
       "<Figure size 432x288 with 1 Axes>"
      ]
     },
     "metadata": {
      "needs_background": "light"
     },
     "output_type": "display_data"
    }
   ],
   "source": [
    "plt.plot(hist.history['loss'])\n",
    "plt.plot(hist.history['val_loss'])\n",
    "plt.title('Model loss')\n",
    "plt.ylabel('Loss')\n",
    "plt.xlabel('Epoch')\n",
    "plt.legend(['Train', 'Val'], loc='upper right')\n",
    "plt.show()"
   ]
  },
  {
   "cell_type": "markdown",
   "metadata": {},
   "source": [
    "# Output"
   ]
  },
  {
   "cell_type": "code",
   "execution_count": null,
   "metadata": {},
   "outputs": [],
   "source": [
    "#print('Mean Absolute Error:', metrics.mean_absolute_error(y_test, y_pred))  \n",
    "#print('Mean Squared Error:', metrics.mean_squared_error(y_test, y_pred))  \n",
    "#print('Root Mean Squared Error:', np.sqrt(metrics.mean_squared_error(y_test, y_pred)))"
   ]
  },
  {
   "cell_type": "code",
   "execution_count": null,
   "metadata": {},
   "outputs": [],
   "source": [
    "store_data['Total Yearly Income [EUR]'] = y_pred\n",
    "store_data.to_csv('output.csv', sep=',')"
   ]
  },
  {
   "cell_type": "code",
   "execution_count": null,
   "metadata": {},
   "outputs": [],
   "source": []
  }
 ],
 "metadata": {
  "kernelspec": {
   "display_name": "Python 3",
   "language": "python",
   "name": "python3"
  },
  "language_info": {
   "codemirror_mode": {
    "name": "ipython",
    "version": 3
   },
   "file_extension": ".py",
   "mimetype": "text/x-python",
   "name": "python",
   "nbconvert_exporter": "python",
   "pygments_lexer": "ipython3",
   "version": "3.7.3"
  }
 },
 "nbformat": 4,
 "nbformat_minor": 2
}
