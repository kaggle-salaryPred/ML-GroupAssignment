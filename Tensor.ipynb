{
 "cells": [
  {
   "cell_type": "code",
   "execution_count": 61,
   "metadata": {},
   "outputs": [],
   "source": [
    "import pandas as pd  \n",
    "import numpy as np  \n",
    "import matplotlib.pyplot as plt  \n",
    "from sklearn.model_selection import train_test_split \n",
    "from sklearn.linear_model import LinearRegression\n",
    "from sklearn import metrics\n",
    "from sklearn.preprocessing import LabelEncoder\n",
    "from sklearn.preprocessing import OneHotEncoder\n",
    "from sklearn import preprocessing\n",
    "import seaborn as sns\n",
    "import category_encoders as ce\n",
    "from sklearn.preprocessing import LabelBinarizer\n",
    "#import xgboost as xgb\n",
    "from sklearn.ensemble import RandomForestRegressor"
   ]
  },
  {
   "cell_type": "markdown",
   "metadata": {},
   "source": [
    "# To load Input data"
   ]
  },
  {
   "cell_type": "code",
   "execution_count": 62,
   "metadata": {},
   "outputs": [
    {
     "name": "stderr",
     "output_type": "stream",
     "text": [
      "/home/james/miniconda3/lib/python3.7/site-packages/IPython/core/interactiveshell.py:3058: DtypeWarning: Columns (2,4) have mixed types. Specify dtype option on import or set low_memory=False.\n",
      "  interactivity=interactivity, compiler=compiler, result=result)\n",
      "/home/james/miniconda3/lib/python3.7/site-packages/IPython/core/interactiveshell.py:3058: DtypeWarning: Columns (4) have mixed types. Specify dtype option on import or set low_memory=False.\n",
      "  interactivity=interactivity, compiler=compiler, result=result)\n"
     ]
    }
   ],
   "source": [
    "dataset_test = pd.read_csv('tcd-ml-1920-group-income-train.csv')\n",
    "dataset_pred = pd.read_csv('tcd-ml-1920-group-income-test.csv')\n",
    "store_data = dataset_pred.filter(['Instance'], axis=1)\n",
    "dataset_test.columns = dataset_test.columns.str.strip().str.replace(' ', '_').str.replace('(', '').str.replace(')', '')\n",
    "dataset_pred.columns = dataset_pred.columns.str.strip().str.replace(' ', '_').str.replace('(', '').str.replace(')', '')\n",
    "\n",
    "dataset_test.rename(columns={'Work_Experience_in_Current_Job_[years]': 'Work_Experience_in_Current_Job'}, inplace=True)\n",
    "dataset_pred.rename(columns={'Work_Experience_in_Current_Job_[years]': 'Work_Experience_in_Current_Job'}, inplace=True)"
   ]
  },
  {
   "cell_type": "markdown",
   "metadata": {},
   "source": [
    "# Remove Instance Column"
   ]
  },
  {
   "cell_type": "code",
   "execution_count": 63,
   "metadata": {},
   "outputs": [],
   "source": [
    "dataset_test = dataset_test.drop('Instance', 1)\n",
    "dataset_pred = dataset_pred.drop('Instance', 1)\n",
    "dataset_test.drop(dataset_test.loc[dataset_test['Total_Yearly_Income_[EUR]']==2548791].index, inplace=True)"
   ]
  },
  {
   "cell_type": "markdown",
   "metadata": {},
   "source": [
    "# Change null to rand value between std dev around mean. Alternate could be panda interpolate\n"
   ]
  },
  {
   "cell_type": "code",
   "execution_count": 64,
   "metadata": {},
   "outputs": [
    {
     "name": "stderr",
     "output_type": "stream",
     "text": [
      "/home/james/miniconda3/lib/python3.7/site-packages/ipykernel_launcher.py:5: SettingWithCopyWarning: \n",
      "A value is trying to be set on a copy of a slice from a DataFrame\n",
      "\n",
      "See the caveats in the documentation: http://pandas.pydata.org/pandas-docs/stable/user_guide/indexing.html#returning-a-view-versus-a-copy\n",
      "  \"\"\"\n",
      "/home/james/miniconda3/lib/python3.7/site-packages/ipykernel_launcher.py:12: SettingWithCopyWarning: \n",
      "A value is trying to be set on a copy of a slice from a DataFrame\n",
      "\n",
      "See the caveats in the documentation: http://pandas.pydata.org/pandas-docs/stable/user_guide/indexing.html#returning-a-view-versus-a-copy\n",
      "  if sys.path[0] == '':\n"
     ]
    }
   ],
   "source": [
    "Column_Name_avg = dataset_test['Year_of_Record'].mean()\n",
    "Column_Name_std = dataset_test['Year_of_Record'].std()\n",
    "Column_Name_null_count = dataset_test['Year_of_Record'].isnull().sum()\n",
    "Column_Name_null_random_list = np.random.randint(Column_Name_avg - Column_Name_std, Column_Name_avg + Column_Name_std, size=Column_Name_null_count)\n",
    "dataset_test['Year_of_Record'][np.isnan(dataset_test['Year_of_Record'])] = Column_Name_null_random_list\n",
    "dataset_test['Year_of_Record'] = dataset_test['Year_of_Record'].astype(int)\n",
    "\n",
    "Column_Name_avg = dataset_pred['Year_of_Record'].mean()\n",
    "Column_Name_std = dataset_pred['Year_of_Record'].std()\n",
    "Column_Name_null_count = dataset_pred['Year_of_Record'].isnull().sum()\n",
    "Column_Name_null_random_list = np.random.randint(Column_Name_avg - Column_Name_std, Column_Name_avg + Column_Name_std, size=Column_Name_null_count)\n",
    "dataset_pred['Year_of_Record'][np.isnan(dataset_pred['Year_of_Record'])] = Column_Name_null_random_list\n",
    "dataset_pred['Year_of_Record'] = dataset_pred['Year_of_Record'].astype(int)"
   ]
  },
  {
   "cell_type": "markdown",
   "metadata": {},
   "source": [
    "# Filling Gender Nan and other values\n"
   ]
  },
  {
   "cell_type": "code",
   "execution_count": 65,
   "metadata": {},
   "outputs": [],
   "source": [
    "dataset_test.Gender = dataset_test.Gender.replace(\"f\", \"female\")\n",
    "dataset_test[\"Gender\"].fillna(\"unknown\", inplace = True)\n",
    "dataset_test.Gender = dataset_test.Gender.replace(\"0\", \"unknown\")\n",
    "\n",
    "dataset_pred.Gender = dataset_pred.Gender.replace(\"f\", \"female\")\n",
    "dataset_pred[\"Gender\"].fillna(\"unknown\", inplace = True)\n",
    "dataset_pred.Gender = dataset_pred.Gender.replace(\"0\", \"unknown\")"
   ]
  },
  {
   "cell_type": "markdown",
   "metadata": {},
   "source": [
    "# Filling University Degree Nan Values"
   ]
  },
  {
   "cell_type": "code",
   "execution_count": 66,
   "metadata": {},
   "outputs": [],
   "source": [
    "dataset_test.University_Degree = dataset_test.University_Degree.replace(\"0\", \"No\")\n",
    "dataset_test[\"University_Degree\"].fillna(\"No\", inplace = True)\n",
    "\n",
    "dataset_pred.University_Degree = dataset_pred.University_Degree.replace(\"0\", \"No\")\n",
    "dataset_pred[\"University_Degree\"].fillna(\"No\", inplace = True)"
   ]
  },
  {
   "cell_type": "markdown",
   "metadata": {},
   "source": [
    "# Filling Haircolor Nan Values"
   ]
  },
  {
   "cell_type": "code",
   "execution_count": 67,
   "metadata": {},
   "outputs": [],
   "source": [
    "dataset_test.Hair_Color = dataset_test.Hair_Color.replace(\"0\", \"Unknown\")\n",
    "dataset_test[\"Hair_Color\"].fillna(\"Unknown\", inplace = True)\n",
    "dataset_test = dataset_test.drop('Hair_Color', 1)\n",
    "\n",
    "dataset_pred.Hair_Color = dataset_pred.Hair_Color.replace(\"0\", \"Unknown\")\n",
    "dataset_pred[\"Hair_Color\"].fillna(\"Unknown\", inplace = True)\n",
    "dataset_pred = dataset_pred.drop('Hair_Color', 1)"
   ]
  },
  {
   "cell_type": "markdown",
   "metadata": {},
   "source": [
    "# Filling Profession Nan Values"
   ]
  },
  {
   "cell_type": "code",
   "execution_count": 68,
   "metadata": {},
   "outputs": [],
   "source": [
    "dataset_test[\"Profession\"].fillna(\"Unknown\", inplace = True)\n",
    "dataset_pred[\"Profession\"].fillna(\"Unknown\", inplace = True)"
   ]
  },
  {
   "cell_type": "markdown",
   "metadata": {},
   "source": [
    "# Filling Housing_Situation Corrupt Values"
   ]
  },
  {
   "cell_type": "code",
   "execution_count": 69,
   "metadata": {},
   "outputs": [],
   "source": [
    "dataset_test[\"Housing_Situation\"] = dataset_test[\"Housing_Situation\"].replace(0,'Unknown')\n",
    "dataset_test[\"Housing_Situation\"] = dataset_test[\"Housing_Situation\"].replace('0','Unknown')\n",
    "dataset_test[\"Housing_Situation\"] = dataset_test[\"Housing_Situation\"].replace('nA','Unknown')\n",
    "\n",
    "dataset_pred[\"Housing_Situation\"] = dataset_pred[\"Housing_Situation\"].replace(0,'Unknown')\n",
    "dataset_pred[\"Housing_Situation\"] = dataset_pred[\"Housing_Situation\"].replace('0','Unknown')\n",
    "dataset_pred[\"Housing_Situation\"] = dataset_pred[\"Housing_Situation\"].replace('nA','Unknown')\n",
    "\n",
    "\n",
    "dataset_test['Satisfation_with_employer'] = dataset_test['Satisfation_with_employer'].fillna(method='ffill')\n",
    "dataset_pred['Satisfation_with_employer'] = dataset_pred['Satisfation_with_employer'].fillna(method='ffill')"
   ]
  },
  {
   "cell_type": "markdown",
   "metadata": {},
   "source": [
    "# Convert work Experience in current job to float and replace #NUM! to mean of their Age"
   ]
  },
  {
   "cell_type": "code",
   "execution_count": 70,
   "metadata": {},
   "outputs": [
    {
     "name": "stderr",
     "output_type": "stream",
     "text": [
      "/home/james/miniconda3/lib/python3.7/site-packages/ipykernel_launcher.py:3: UserWarning: Pandas doesn't allow columns to be created via a new attribute name - see https://pandas.pydata.org/pandas-docs/stable/indexing.html#attribute-access\n",
      "  This is separate from the ipykernel package so we can avoid doing imports until\n",
      "/home/james/miniconda3/lib/python3.7/site-packages/ipykernel_launcher.py:8: UserWarning: Pandas doesn't allow columns to be created via a new attribute name - see https://pandas.pydata.org/pandas-docs/stable/indexing.html#attribute-access\n",
      "  \n"
     ]
    }
   ],
   "source": [
    "dataset_test.Work_Experience_in_Current_Job = dataset_test.Work_Experience_in_Current_Job.replace(\"#NUM!\", None)\n",
    "dataset_test['Work_Experience_in_Current_Job'] = dataset_test['Work_Experience_in_Current_Job'].astype(float)\n",
    "dataset_test.value = dataset_test.groupby('Age')['Work_Experience_in_Current_Job'].apply(lambda x: x.fillna(x.median()))\n",
    "dataset_test.value = dataset_test.Work_Experience_in_Current_Job.fillna(dataset_test.Work_Experience_in_Current_Job.median())\n",
    "\n",
    "dataset_pred.Work_Experience_in_Current_Job = dataset_pred.Work_Experience_in_Current_Job.replace(\"#NUM!\", None)\n",
    "dataset_pred['Work_Experience_in_Current_Job'] = dataset_pred['Work_Experience_in_Current_Job'].astype(float)\n",
    "dataset_pred.value = dataset_pred.groupby('Age')['Work_Experience_in_Current_Job'].apply(lambda x: x.fillna(x.median()))\n",
    "dataset_pred.value = dataset_pred.Work_Experience_in_Current_Job.fillna(dataset_pred.Work_Experience_in_Current_Job.median())"
   ]
  },
  {
   "cell_type": "markdown",
   "metadata": {},
   "source": [
    "# Remove EUR in Yearly_Income to make it numerical value "
   ]
  },
  {
   "cell_type": "code",
   "execution_count": 71,
   "metadata": {},
   "outputs": [],
   "source": [
    "dataset_test['Yearly_Income_in_addition_to_Salary_e.g._Rental_Income'] = dataset_test['Yearly_Income_in_addition_to_Salary_e.g._Rental_Income'].replace('EUR', '', regex=True).astype(float)\n",
    "dataset_pred['Yearly_Income_in_addition_to_Salary_e.g._Rental_Income'] = dataset_pred['Yearly_Income_in_addition_to_Salary_e.g._Rental_Income'].replace('EUR', '', regex=True).astype(float)"
   ]
  },
  {
   "cell_type": "markdown",
   "metadata": {},
   "source": [
    "# Label encoding the categorical columns"
   ]
  },
  {
   "cell_type": "code",
   "execution_count": 72,
   "metadata": {},
   "outputs": [],
   "source": [
    "for col in dataset_test.dtypes[dataset_test.dtypes == 'object'].index.tolist():\n",
    "    feat_le = LabelEncoder()\n",
    "    train_list = dataset_test[col].unique()\n",
    "    dataset_test.loc[1201,col] = 'other'\n",
    "    test_list = dataset_pred[col].unique()\n",
    "    test_replace = list(set(test_list) - set(train_list))\n",
    "    dataset_pred[col] = dataset_pred[col].replace(test_replace, 'other')\n",
    "    feat_le.fit(dataset_test[col].unique().astype(str))\n",
    "    dataset_test[col] = feat_le.transform(dataset_test[col].astype(str))\n",
    "    dataset_pred[col] = feat_le.transform(dataset_pred[col].astype(str))\n",
    "\n"
   ]
  },
  {
   "cell_type": "markdown",
   "metadata": {},
   "source": [
    "### This function takes a string column name and returns a list\n",
    "### containing indices of dataframe that have outliers in that column\n",
    "### Refer: https://towardsdatascience.com/5-ways-to-detect-outliers-that-every-data-scientist-should-know-python-code-70a54335a623\n"
   ]
  },
  {
   "cell_type": "code",
   "execution_count": 73,
   "metadata": {},
   "outputs": [],
   "source": [
    "def OutlierByColumn(colname):\n",
    "    rows = dataset_test.shape[0]\n",
    "    col_std = np.std(dataset_test[colname])\n",
    "    col_mean = np.mean(dataset_test[colname])\n",
    "    anomaly_cut_off = col_std * 3\n",
    "    lower_limit  = col_mean - anomaly_cut_off \n",
    "    upper_limit = col_mean + anomaly_cut_off\n",
    "    anomalies_indices = []\n",
    "    for i in range(rows):\n",
    "        ele = dataset_test[colname][i]\n",
    "        if ele > upper_limit or ele < lower_limit:\n",
    "            anomalies_indices.append(i)\n",
    "    return anomalies_indices"
   ]
  },
  {
   "cell_type": "markdown",
   "metadata": {},
   "source": [
    "# Running outlier"
   ]
  },
  {
   "cell_type": "code",
   "execution_count": 74,
   "metadata": {},
   "outputs": [],
   "source": [
    "arr1 = OutlierByColumn('Work_Experience_in_Current_Job')\n",
    "arr2 = OutlierByColumn('Age')\n",
    "#arr3 = OutlierByColumn('Body_Height_[cm]')\n",
    "arr4 = OutlierByColumn('Yearly_Income_in_addition_to_Salary_e.g._Rental_Income')\n",
    "arr5 = OutlierByColumn('Size_of_City')"
   ]
  },
  {
   "cell_type": "code",
   "execution_count": 75,
   "metadata": {},
   "outputs": [],
   "source": [
    "#Union of all lists \n",
    "union_index = np.union1d(arr1,arr2)\n",
    "#union_index = np.union1d(union_index,arr3)\n",
    "union_index = np.union1d(union_index,arr4)\n",
    "union_index = np.union1d(union_index,arr5)\n",
    "len(union_index)\n",
    "dataset_test = dataset_test.drop(union_index)"
   ]
  },
  {
   "cell_type": "markdown",
   "metadata": {},
   "source": [
    "# Normalise columns"
   ]
  },
  {
   "cell_type": "code",
   "execution_count": 76,
   "metadata": {},
   "outputs": [],
   "source": [
    "y = dataset_test['Total_Yearly_Income_[EUR]'].values\n",
    "dataset_test.drop('Total_Yearly_Income_[EUR]', axis=1, inplace=True)\n"
   ]
  },
  {
   "cell_type": "code",
   "execution_count": 77,
   "metadata": {},
   "outputs": [],
   "source": [
    "\n",
    "x = dataset_test.values #returns a numpy array\n",
    "min_max_scaler = preprocessing.MinMaxScaler()\n",
    "x_scaled = min_max_scaler.fit_transform(x)\n",
    "dataset_test = pd.DataFrame(x_scaled)\n",
    "X = dataset_test[dataset_test.columns].values"
   ]
  },
  {
   "cell_type": "markdown",
   "metadata": {},
   "source": [
    "# View Data"
   ]
  },
  {
   "cell_type": "code",
   "execution_count": 78,
   "metadata": {
    "scrolled": true
   },
   "outputs": [
    {
     "data": {
      "text/html": [
       "<div>\n",
       "<style scoped>\n",
       "    .dataframe tbody tr th:only-of-type {\n",
       "        vertical-align: middle;\n",
       "    }\n",
       "\n",
       "    .dataframe tbody tr th {\n",
       "        vertical-align: top;\n",
       "    }\n",
       "\n",
       "    .dataframe thead th {\n",
       "        text-align: right;\n",
       "    }\n",
       "</style>\n",
       "<table border=\"1\" class=\"dataframe\">\n",
       "  <thead>\n",
       "    <tr style=\"text-align: right;\">\n",
       "      <th></th>\n",
       "      <th>0</th>\n",
       "      <th>1</th>\n",
       "      <th>2</th>\n",
       "      <th>3</th>\n",
       "      <th>4</th>\n",
       "      <th>5</th>\n",
       "      <th>6</th>\n",
       "      <th>7</th>\n",
       "      <th>8</th>\n",
       "      <th>9</th>\n",
       "      <th>10</th>\n",
       "      <th>11</th>\n",
       "      <th>12</th>\n",
       "      <th>13</th>\n",
       "    </tr>\n",
       "  </thead>\n",
       "  <tbody>\n",
       "    <tr>\n",
       "      <td>0</td>\n",
       "      <td>0.0</td>\n",
       "      <td>0.875</td>\n",
       "      <td>0.171875</td>\n",
       "      <td>0.531250</td>\n",
       "      <td>0.75</td>\n",
       "      <td>0.666667</td>\n",
       "      <td>0.436620</td>\n",
       "      <td>0.005747</td>\n",
       "      <td>0.004655</td>\n",
       "      <td>0.450923</td>\n",
       "      <td>0.50</td>\n",
       "      <td>1.0</td>\n",
       "      <td>0.526316</td>\n",
       "      <td>0.0</td>\n",
       "    </tr>\n",
       "    <tr>\n",
       "      <td>1</td>\n",
       "      <td>0.0</td>\n",
       "      <td>0.875</td>\n",
       "      <td>0.130208</td>\n",
       "      <td>0.153125</td>\n",
       "      <td>0.75</td>\n",
       "      <td>0.000000</td>\n",
       "      <td>0.042254</td>\n",
       "      <td>0.005747</td>\n",
       "      <td>0.421465</td>\n",
       "      <td>0.459779</td>\n",
       "      <td>0.50</td>\n",
       "      <td>0.0</td>\n",
       "      <td>0.473684</td>\n",
       "      <td>0.0</td>\n",
       "    </tr>\n",
       "    <tr>\n",
       "      <td>2</td>\n",
       "      <td>0.0</td>\n",
       "      <td>0.875</td>\n",
       "      <td>0.177083</td>\n",
       "      <td>0.656250</td>\n",
       "      <td>0.75</td>\n",
       "      <td>0.000000</td>\n",
       "      <td>0.478873</td>\n",
       "      <td>0.005747</td>\n",
       "      <td>0.152092</td>\n",
       "      <td>0.881919</td>\n",
       "      <td>0.00</td>\n",
       "      <td>0.0</td>\n",
       "      <td>0.326316</td>\n",
       "      <td>0.0</td>\n",
       "    </tr>\n",
       "    <tr>\n",
       "      <td>3</td>\n",
       "      <td>0.0</td>\n",
       "      <td>0.875</td>\n",
       "      <td>0.364583</td>\n",
       "      <td>0.562500</td>\n",
       "      <td>0.00</td>\n",
       "      <td>0.000000</td>\n",
       "      <td>0.394366</td>\n",
       "      <td>0.011494</td>\n",
       "      <td>0.011000</td>\n",
       "      <td>0.744649</td>\n",
       "      <td>0.50</td>\n",
       "      <td>1.0</td>\n",
       "      <td>0.368421</td>\n",
       "      <td>0.0</td>\n",
       "    </tr>\n",
       "    <tr>\n",
       "      <td>4</td>\n",
       "      <td>0.0</td>\n",
       "      <td>0.875</td>\n",
       "      <td>0.265625</td>\n",
       "      <td>0.250000</td>\n",
       "      <td>0.25</td>\n",
       "      <td>0.666667</td>\n",
       "      <td>0.014085</td>\n",
       "      <td>0.011494</td>\n",
       "      <td>0.004344</td>\n",
       "      <td>0.561624</td>\n",
       "      <td>0.25</td>\n",
       "      <td>1.0</td>\n",
       "      <td>0.515789</td>\n",
       "      <td>0.0</td>\n",
       "    </tr>\n",
       "  </tbody>\n",
       "</table>\n",
       "</div>"
      ],
      "text/plain": [
       "     0      1         2         3     4         5         6         7  \\\n",
       "0  0.0  0.875  0.171875  0.531250  0.75  0.666667  0.436620  0.005747   \n",
       "1  0.0  0.875  0.130208  0.153125  0.75  0.000000  0.042254  0.005747   \n",
       "2  0.0  0.875  0.177083  0.656250  0.75  0.000000  0.478873  0.005747   \n",
       "3  0.0  0.875  0.364583  0.562500  0.00  0.000000  0.394366  0.011494   \n",
       "4  0.0  0.875  0.265625  0.250000  0.25  0.666667  0.014085  0.011494   \n",
       "\n",
       "          8         9    10   11        12   13  \n",
       "0  0.004655  0.450923  0.50  1.0  0.526316  0.0  \n",
       "1  0.421465  0.459779  0.50  0.0  0.473684  0.0  \n",
       "2  0.152092  0.881919  0.00  0.0  0.326316  0.0  \n",
       "3  0.011000  0.744649  0.50  1.0  0.368421  0.0  \n",
       "4  0.004344  0.561624  0.25  1.0  0.515789  0.0  "
      ]
     },
     "execution_count": 78,
     "metadata": {},
     "output_type": "execute_result"
    }
   ],
   "source": [
    "dataset_test.head(5)"
   ]
  },
  {
   "cell_type": "code",
   "execution_count": 79,
   "metadata": {},
   "outputs": [
    {
     "data": {
      "text/plain": [
       "array([  6182.05,   6819.69,   8663.53, ..., 254738.53,  11182.98,\n",
       "         1280.21])"
      ]
     },
     "execution_count": 79,
     "metadata": {},
     "output_type": "execute_result"
    }
   ],
   "source": [
    "y.view()"
   ]
  },
  {
   "cell_type": "code",
   "execution_count": 80,
   "metadata": {},
   "outputs": [],
   "source": [
    "\n",
    "X = dataset_test[dataset_test.columns].values"
   ]
  },
  {
   "cell_type": "code",
   "execution_count": 81,
   "metadata": {},
   "outputs": [
    {
     "name": "stdout",
     "output_type": "stream",
     "text": [
      "(997110,)\n",
      "(997110, 14)\n"
     ]
    }
   ],
   "source": [
    "print(y.shape)\n",
    "print(X.shape)"
   ]
  },
  {
   "cell_type": "code",
   "execution_count": 82,
   "metadata": {},
   "outputs": [],
   "source": [
    "#split 80% of the data to the training set while 20% of the data to test set.\n",
    "#X_train, X_test, y_train, y_test = train_test_split(X, y, test_size=0.2, random_state=0)\n",
    "X_train, X_test, Y_train, Y_test = train_test_split(X, y, test_size=0.1)"
   ]
  },
  {
   "cell_type": "code",
   "execution_count": 84,
   "metadata": {},
   "outputs": [
    {
     "name": "stdout",
     "output_type": "stream",
     "text": [
      "(897399, 14) (99711, 14)\n",
      "(897399,) (99711,)\n"
     ]
    }
   ],
   "source": [
    "print(X_train.shape, X_test.shape)\n",
    "print(Y_train.shape, Y_test.shape)"
   ]
  },
  {
   "cell_type": "code",
   "execution_count": 85,
   "metadata": {},
   "outputs": [],
   "source": [
    "\n",
    "#dataset_pred.drop('Total_Yearly_Income_[EUR]', axis=1, inplace=True)\n",
    "#X_test = dataset_pred[dataset_pred.columns].values"
   ]
  },
  {
   "cell_type": "markdown",
   "metadata": {},
   "source": [
    "# KERAS Model"
   ]
  },
  {
   "cell_type": "code",
   "execution_count": 115,
   "metadata": {},
   "outputs": [],
   "source": [
    "from keras.models import Sequential\n",
    "from keras.layers import Dense\n",
    "from keras import optimizers\n",
    "from keras.layers import Dropout\n",
    "from keras import losses"
   ]
  },
  {
   "cell_type": "code",
   "execution_count": 116,
   "metadata": {},
   "outputs": [],
   "source": [
    "sgd = optimizers.SGD(lr=0.5, decay=1e-6, momentum=0.9, nesterov=True)\n",
    "losses = losses.mean_absolute_percentage_error"
   ]
  },
  {
   "cell_type": "code",
   "execution_count": 117,
   "metadata": {},
   "outputs": [],
   "source": [
    "model = Sequential()\n",
    "model.add(Dense(500,kernel_initializer='RandomUniform', input_dim=14, activation= \"relu\"))\n",
    "model.add(Dropout(0.2))\n",
    "model.add(Dense(250,kernel_initializer='normal', activation= \"relu\"))\n",
    "model.add(Dense(1))"
   ]
  },
  {
   "cell_type": "code",
   "execution_count": 118,
   "metadata": {},
   "outputs": [],
   "source": [
    "model.compile(loss= losses , optimizer=sgd, metrics=[\"mean_absolute_error\"])"
   ]
  },
  {
   "cell_type": "code",
   "execution_count": 119,
   "metadata": {},
   "outputs": [
    {
     "name": "stdout",
     "output_type": "stream",
     "text": [
      "_________________________________________________________________\n",
      "Layer (type)                 Output Shape              Param #   \n",
      "=================================================================\n",
      "dense_31 (Dense)             (None, 500)               7500      \n",
      "_________________________________________________________________\n",
      "dropout_15 (Dropout)         (None, 500)               0         \n",
      "_________________________________________________________________\n",
      "dense_32 (Dense)             (None, 250)               125250    \n",
      "_________________________________________________________________\n",
      "dense_33 (Dense)             (None, 1)                 251       \n",
      "=================================================================\n",
      "Total params: 133,001\n",
      "Trainable params: 133,001\n",
      "Non-trainable params: 0\n",
      "_________________________________________________________________\n"
     ]
    }
   ],
   "source": [
    "model.summary()"
   ]
  },
  {
   "cell_type": "code",
   "execution_count": 120,
   "metadata": {},
   "outputs": [
    {
     "name": "stdout",
     "output_type": "stream",
     "text": [
      "Train on 717919 samples, validate on 179480 samples\n",
      "Epoch 1/10\n",
      "717919/717919 [==============================] - 5s 7us/step - loss: 57.7088 - mean_absolute_error: 40983.5140 - val_loss: 46.9270 - val_mean_absolute_error: 34089.8620\n",
      "Epoch 2/10\n",
      "717919/717919 [==============================] - 5s 6us/step - loss: 48.2443 - mean_absolute_error: 33334.3853 - val_loss: 43.8468 - val_mean_absolute_error: 31811.3939\n",
      "Epoch 3/10\n",
      "717919/717919 [==============================] - 5s 6us/step - loss: 46.0362 - mean_absolute_error: 31602.4882 - val_loss: 42.6873 - val_mean_absolute_error: 28198.5806\n",
      "Epoch 4/10\n",
      "717919/717919 [==============================] - 5s 6us/step - loss: 44.6227 - mean_absolute_error: 29936.0691 - val_loss: 43.6389 - val_mean_absolute_error: 29313.3441\n",
      "Epoch 5/10\n",
      "717919/717919 [==============================] - 5s 6us/step - loss: 43.7837 - mean_absolute_error: 29472.2951 - val_loss: 42.4263 - val_mean_absolute_error: 28794.7464\n",
      "Epoch 6/10\n",
      "717919/717919 [==============================] - 5s 6us/step - loss: 42.3141 - mean_absolute_error: 28647.0223 - val_loss: 47.3201 - val_mean_absolute_error: 30373.9309\n",
      "Epoch 7/10\n",
      "717919/717919 [==============================] - 5s 6us/step - loss: 42.3572 - mean_absolute_error: 28803.4800 - val_loss: 41.6488 - val_mean_absolute_error: 29371.9193\n",
      "Epoch 8/10\n",
      "717919/717919 [==============================] - 5s 6us/step - loss: 41.9331 - mean_absolute_error: 28437.2385 - val_loss: 44.7549 - val_mean_absolute_error: 28977.4891\n",
      "Epoch 9/10\n",
      "717919/717919 [==============================] - 5s 6us/step - loss: 42.3173 - mean_absolute_error: 28493.6493 - val_loss: 44.9939 - val_mean_absolute_error: 30333.7175\n",
      "Epoch 10/10\n",
      "717919/717919 [==============================] - 5s 7us/step - loss: 41.4775 - mean_absolute_error: 28076.8891 - val_loss: 41.7402 - val_mean_absolute_error: 28817.2601\n"
     ]
    }
   ],
   "source": [
    "hist = model.fit(X_train, Y_train,\n",
    "          batch_size=1024, epochs=10,\n",
    "          validation_split=0.2)"
   ]
  },
  {
   "cell_type": "code",
   "execution_count": 53,
   "metadata": {},
   "outputs": [
    {
     "name": "stdout",
     "output_type": "stream",
     "text": [
      "99711/99711 [==============================] - 5s 52us/step\n"
     ]
    },
    {
     "data": {
      "text/plain": [
       "30782.822474999623"
      ]
     },
     "execution_count": 53,
     "metadata": {},
     "output_type": "execute_result"
    }
   ],
   "source": [
    "model.evaluate(X_test, Y_test)[1]"
   ]
  },
  {
   "cell_type": "markdown",
   "metadata": {},
   "source": [
    "# Visualizing Loss & Accuracy"
   ]
  },
  {
   "cell_type": "code",
   "execution_count": 54,
   "metadata": {},
   "outputs": [
    {
     "data": {
      "image/png": "[encoded data removed]",
      "text/plain": [
       "<Figure size 432x288 with 1 Axes>"
      ]
     },
     "metadata": {
      "needs_background": "light"
     },
     "output_type": "display_data"
    }
   ],
   "source": [
    "plt.plot(hist.history['loss'])\n",
    "plt.plot(hist.history['val_loss'])\n",
    "plt.title('Model loss')\n",
    "plt.ylabel('Loss')\n",
    "plt.xlabel('Epoch')\n",
    "plt.legend(['Train', 'Val'], loc='upper right')\n",
    "plt.show()"
   ]
  },
  {
   "cell_type": "markdown",
   "metadata": {},
   "source": [
    "# Output"
   ]
  },
  {
   "cell_type": "code",
   "execution_count": null,
   "metadata": {},
   "outputs": [],
   "source": [
    "#print('Mean Absolute Error:', metrics.mean_absolute_error(y_test, y_pred))  \n",
    "#print('Mean Squared Error:', metrics.mean_squared_error(y_test, y_pred))  \n",
    "#print('Root Mean Squared Error:', np.sqrt(metrics.mean_squared_error(y_test, y_pred)))"
   ]
  },
  {
   "cell_type": "code",
   "execution_count": null,
   "metadata": {},
   "outputs": [],
   "source": [
    "store_data['Total Yearly Income [EUR]'] = y_pred\n",
    "store_data.to_csv('output.csv', sep=',')"
   ]
  },
  {
   "cell_type": "code",
   "execution_count": null,
   "metadata": {},
   "outputs": [],
   "source": []
  }
 ],
 "metadata": {
  "kernelspec": {
   "display_name": "Python 3",
   "language": "python",
   "name": "python3"
  },
  "language_info": {
   "codemirror_mode": {
    "name": "ipython",
    "version": 3
   },
   "file_extension": ".py",
   "mimetype": "text/x-python",
   "name": "python",
   "nbconvert_exporter": "python",
   "pygments_lexer": "ipython3",
   "version": "3.7.3"
  }
 },
 "nbformat": 4,
 "nbformat_minor": 2
}
